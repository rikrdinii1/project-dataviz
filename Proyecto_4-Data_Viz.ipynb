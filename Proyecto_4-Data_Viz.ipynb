{
 "cells": [
  {
   "cell_type": "markdown",
   "metadata": {},
   "source": [
    "# Proyecto 2 Ironhack. \n",
    "Analisis de Lista de Reproduccion. Generacion de una lista de reproduccion nueva\n",
    "\n",
    "#### Ricardo Fuentes Carbó"
   ]
  },
  {
   "cell_type": "code",
   "execution_count": 1,
   "metadata": {},
   "outputs": [],
   "source": [
    "import base64\n",
    "import requests\n",
    "import datetime\n",
    "from urllib.parse import urlencode\n",
    "import pandas as pd\n",
    "import json\n",
    "\n",
    "#https://open.spotify.com/track/5ruzrDWcT0vuJIOMW7gMnW?si=GUD1zot0QZuXAZkJF-geAQ Lista de reproduccion de Zahid\n",
    "\n",
    "# Documentacion para las Playlist: \n",
    "# https://developer.spotify.com/documentation/web-api/reference/playlists/get-a-list-of-current-users-playlists/\n",
    "# Documentacion Obtencion de info de las listas de reproduccion:\n",
    "# https://developer.spotify.com/documentation/web-api/reference/tracks/get-several-audio-features/\n",
    "# Documentacion para la info de las canciones:\n",
    "# https://developer.spotify.com/documentation/web-api/reference/tracks/get-audio-features/\n",
    "# Referencia para el login en la API de Spotify:\n",
    "# https://www.youtube.com/watch?v=xdq6Gz33khQ&t=4594s&ab_channel=CodingEntrepreneurs\n",
    "# las funciones agregadas son tomando ideas de aquí."
   ]
  },
  {
   "cell_type": "markdown",
   "metadata": {},
   "source": [
    "## 1. Coneccion con la API de Spotify"
   ]
  },
  {
   "cell_type": "code",
   "execution_count": 2,
   "metadata": {},
   "outputs": [],
   "source": [
    "# Llaves de acceso para conectarnos a la API de Spotify\n",
    "client_id = '8e5f91c2fc27453eb255a039b42bcb70'\n",
    "client_secret = '09645aff5c8849f2baab977e4cfd1017'\n",
    "ricardo = '1279741536'\n",
    "brenda = '1295671451'"
   ]
  },
  {
   "cell_type": "code",
   "execution_count": 3,
   "metadata": {},
   "outputs": [],
   "source": [
    "# Generamos esta classe que nos funcionará para que de manera automatica se genere toda la solicitud de acceso a la API\n",
    "\n",
    "class SpotifyAPI(object):\n",
    "    access_token = None\n",
    "    access_token_expires = datetime.datetime.now()\n",
    "    client_id = None\n",
    "    client_secret = None\n",
    "    access_token_did_expire = True\n",
    "    token_url = 'https://accounts.spotify.com/api/token'\n",
    "    \n",
    "    def __init__(self, client_id, client_secret, *args, **kwargs):\n",
    "        super().__init__(*args,**kwargs)\n",
    "        self.client_id = client_id\n",
    "        self.client_secret = client_secret\n",
    "    \n",
    "    # Aqui se crean las credenciales en base 64 para poder acceder a la API\n",
    "    def get_client_credentials(self):\n",
    "        \"\"\" returns a base64 encoded string \"\"\"\n",
    "        client_id = self.client_id\n",
    "        client_secret = self.client_secret\n",
    "        if client_secret == None or client_id == None:\n",
    "            raise Exception(\"You must set client_id and client_secret\")\n",
    "            \n",
    "        client_creds = f\"{client_id}:{client_secret}\"\n",
    "        client_creds_b64 = base64.b64encode(client_creds.encode())        \n",
    "        return client_creds_b64.decode()\n",
    "    \n",
    "    # Aqui estamos generando los headers de acceso\n",
    "    def get_token_headers(self):\n",
    "        client_creds_b64 = self.get_client_credentials()\n",
    "        \n",
    "        return {\n",
    "            \"Authorization\":f\"Basic {client_creds_b64}\"\n",
    "        }\n",
    "    \n",
    "    def get_token_data(self):\n",
    "        return {\n",
    "            \"grant_type\":\"client_credentials\"\n",
    "        }\n",
    "    \n",
    "    # Aqui nos autentificamos y obtenemos el token de acceso\n",
    "    def perform_auth(self):\n",
    "        token_url = self.token_url\n",
    "        token_data = self.get_token_data()\n",
    "        token_headers = self.get_token_headers()\n",
    "        \n",
    "        r = requests.post(token_url, data = token_data, headers = token_headers)\n",
    "\n",
    "        if r.status_code not in range(200,299):\n",
    "            raise Exceptiontion('Could not authenticate client')\n",
    "        \n",
    "            \n",
    "        data = r.json()\n",
    "        now = datetime.datetime.now()\n",
    "        acces_token = data['access_token']\n",
    "        expires_in = data['expires_in'] #seconds\n",
    "        expires = now + datetime.timedelta(seconds = expires_in)\n",
    "        self.access_token = acces_token\n",
    "        self.access_token_expires = expires\n",
    "        self.access_token_did_expire = expires < now\n",
    "        return True\n",
    "    \n",
    "    # Extraemos el token de acceso\n",
    "    def get_access_token(self):\n",
    "        token = self.access_token\n",
    "        expires = self.access_token_expires\n",
    "        now = datetime.datetime.now()\n",
    "        if expires < now:\n",
    "            self.perform_auth()\n",
    "            return self.get_access_token()\n",
    "        elif token == None:\n",
    "            self.perform_auth()\n",
    "            return self.get_access_token()\n",
    "        return token\n",
    "    \n",
    "    # Aqui son los headers de para las busquedas\n",
    "    def get_resource_header(self):\n",
    "        access_token = self.get_access_token()\n",
    "        headers = {\n",
    "            \"Authorization\":f\"Bearer {access_token}\"\n",
    "        }\n",
    "        return headers\n",
    "        \n",
    "    # busqueda de listas de reproduccion\n",
    "    def get_user_playlist(self,u_id):\n",
    "        endpoint = f'https://api.spotify.com/v1/users/{u_id}/playlists'\n",
    "        headers = self.get_resource_header()\n",
    "        r = requests.get(endpoint,headers=headers)\n",
    "        if r.status_code not in range(200,299):\n",
    "            return {}\n",
    "        return r.json()\n",
    "    \n",
    "    # Busqueda de las canciones por playlist: nombre, \n",
    "    def get_song_playlist(self,playlist_id):\n",
    "        endpoint = f'https://api.spotify.com/v1/playlists/{playlist_id}/tracks'\n",
    "        headers = self.get_resource_header()\n",
    "        r = requests.get(endpoint,headers=headers)\n",
    "        if r.status_code not in range(200,299):\n",
    "            return {}\n",
    "        return r.json()\n",
    "    \n",
    "    # Busqueda de las caracteristicas de las canciones\n",
    "    def get_audio_features(self,song_id):\n",
    "        endpoint = f'https://api.spotify.com/v1/audio-features/{song_id}'\n",
    "        headers = self.get_resource_header()\n",
    "        r = requests.get(endpoint,headers=headers)\n",
    "        if r.status_code not in range(200,299):\n",
    "            return {}\n",
    "        return r.json()\n",
    "    \n",
    "    def get_data_artist(self,artist_id):\n",
    "        endpoint = f'https://api.spotify.com/v1/artists/{artist_id}'\n",
    "        headers = self.get_resource_header()\n",
    "        r = requests.get(endpoint,headers=headers)\n",
    "        if r.status_code not in range(200,299):\n",
    "            return {}\n",
    "        return r.json()"
   ]
  },
  {
   "cell_type": "code",
   "execution_count": 4,
   "metadata": {},
   "outputs": [],
   "source": [
    "# Llamamos a la funcion y le asignamos nuestros client ID y Client Secret\n",
    "spotify = SpotifyAPI(client_id,client_secret)"
   ]
  },
  {
   "cell_type": "code",
   "execution_count": 5,
   "metadata": {},
   "outputs": [
    {
     "data": {
      "text/plain": [
       "True"
      ]
     },
     "execution_count": 5,
     "metadata": {},
     "output_type": "execute_result"
    }
   ],
   "source": [
    "# Nos indica si fue realizada la coneccion con la API\n",
    "spotify.perform_auth()"
   ]
  },
  {
   "cell_type": "code",
   "execution_count": 6,
   "metadata": {},
   "outputs": [
    {
     "data": {
      "text/plain": [
       "'BQDbZHNB0lTxG1Ko0kAJmWz2waIj8CoJNW9Ur2HRFuu6yayh5ead2DTD2Iv-5nPu_yITRwCDnxkjxhGCNMI'"
      ]
     },
     "execution_count": 6,
     "metadata": {},
     "output_type": "execute_result"
    }
   ],
   "source": [
    "# Obtenemos el access_token que nos servirá para las consultas nescesarias. Por eso lo guardamos en una variable y que sea mas\n",
    "# sencillo llamarlo posteriormente.\n",
    "access_token = spotify.access_token\n",
    "access_token"
   ]
  },
  {
   "cell_type": "markdown",
   "metadata": {},
   "source": [
    "## 2. Busqueda y descarga de la informacion de las listas de reproduccion"
   ]
  },
  {
   "cell_type": "markdown",
   "metadata": {},
   "source": [
    "Acousticness: una medida de confianza de 0.0 a 1.0 de si la pista es acústica. 1.0 representa una alta confianza \n",
    "en que la pista es acústica.\n",
    "\n",
    "Danceability: la capacidad de baile describe qué tan adecuada es una pista para bailar en función de una combinación \n",
    "de elementos musicales que incluyen el tempo, la estabilidad del ritmo, la fuerza del ritmo y la regularidad general. \n",
    "Un valor de 0.0 es menos bailable y 1.0 es más bailable.\n",
    "\n",
    "Energy: La energía es una medida de 0.0 a 1.0 y representa una medida perceptiva de intensidad y actividad. \n",
    "Por lo general, las pistas enérgicas se sienten rápidas, ruidosas y ruidosas. Por ejemplo, el death metal \n",
    "tiene mucha energía, mientras que un preludio de Bach tiene una puntuación baja en la escala. \n",
    "Las características de percepción que contribuyen a este atributo incluyen rango dinámico, \n",
    "volumen percibido, timbre, frecuencia de inicio y entropía general.\n",
    "\n",
    "Instrumentalness: predice si una pista no contiene voces. Los sonidos \"Ooh\" y \"aah\" se tratan como instrumentales \n",
    "en este contexto. Las pistas de rap o de palabra hablada son claramente \"vocales\". Cuanto más cercano esté el valor \n",
    "de instrumentalidad a 1.0, mayor será la probabilidad de que la pista no contenga contenido vocal. \n",
    "Los valores superiores a 0,5 están destinados a representar pistas instrumentales, pero la confianza es mayor a medida \n",
    "que el valor se acerca a 1,0.\n",
    "\n",
    "Liveness: detecta la presencia de una audiencia en la grabación. Los valores de vivacidad más altos representan una mayor\n",
    "probabilidad de que la pista se haya interpretado en vivo. \n",
    "Un valor por encima de 0,8 proporciona una gran probabilidad de que la pista esté activa.\n",
    "\n",
    "Loudness: la sonoridad general de una pista en decibelios (dB). Los valores de sonoridad se promedian en toda la pista y \n",
    "son útiles para comparar la sonoridad relativa de las pistas. La sonoridad es la cualidad de un sonido que es el \n",
    "principal correlato psicológico de la fuerza física (amplitud). Los valores típicos oscilan entre -60 y 0 db.\n",
    "\n",
    "Speechiness: el habla detecta la presencia de palabras habladas en una pista. Cuanto más exclusivamente parecida \n",
    "a un discurso sea la grabación (por ejemplo, programa de entrevistas, audiolibro, poesía), más cercano a 1.0 será el \n",
    "valor del atributo. Los valores superiores a 0,66 describen pistas que probablemente estén compuestas en su totalidad \n",
    "por palabras habladas. Los valores entre 0,33 y 0,66 describen pistas que pueden contener tanto música como habla, \n",
    "ya sea en secciones o en capas, incluidos casos como la música rap. \n",
    "Los valores por debajo de 0,33 probablemente representen música y otras pistas que no se parecen al habla.\n",
    "\n",
    "Valence: Medida de 0.0 a 1.0 que describe la positividad musical que transmite una pista. Las pistas con valencia alta \n",
    "suenan más positivas (por ejemplo, feliz, alegre, eufórico), mientras que las pistas con valencia baja suenan más \n",
    "negativas (por ejemplo, triste, deprimido, enojado).\n",
    "\n",
    "Tempo: el tempo total estimado de una pista en tiempos por minuto (BPM). En terminología musical, \n",
    "el tempo es la velocidad o ritmo de una pieza determinada y se deriva directamente de la duración media del tiempo."
   ]
  },
  {
   "cell_type": "code",
   "execution_count": 11,
   "metadata": {},
   "outputs": [],
   "source": [
    "def playlist_data(user_id):\n",
    "    ruta = input('Seleccione usuario: Ricardo o Brenda')\n",
    "    # Obtenemos las listas de reproduccion del numero de usuario\n",
    "    playlist = spotify.get_user_playlist(user_id)\n",
    "    id_playlist = [playlist['items'][i]['id'] for i in range(len(playlist['items']))]\n",
    "    # Normalizamos a DataFrame el Json\n",
    "    playlist_norm = pd.json_normalize(playlist['items'])\n",
    "    \n",
    "    # Generamos el DataFrame de las canciones de todas las listas de reproduccion\n",
    "    df_canciones = []\n",
    "    for a in id_playlist:\n",
    "        lista_1 = spotify.get_song_playlist(a)\n",
    "        df = pd.json_normalize(lista_1['items'])\n",
    "        df_canciones.append(df)\n",
    "\n",
    "    df_song_playlist = pd.concat(df_canciones)\n",
    "    drop_col = ['track.album.artists','track.album.type','added_at', 'is_local', 'primary_color','added_by.external_urls.spotify', 'added_by.href', 'added_by.id','added_by.type', 'added_by.uri', 'track.album.available_markets','track.album.external_urls.spotify', 'track.album.href','track.album.id', 'track.album.images','track.album.release_date', 'track.album.release_date_precision','track.album.total_tracks', 'track.album.uri','track.available_markets', 'track.disc_number', 'track.episode','track.external_ids.isrc', 'track.external_urls.spotify', 'track.href','track.is_local','track.preview_url', 'track.track', 'track.track_number', 'track.type','track.uri', 'video_thumbnail.url','track.artists']\n",
    "    cols_rename={'track.album.album_type':'Tipo de Album', 'track.album.name':'Nombre del Album', 'track.duration_ms':'Duracion Cancion en MS','track.explicit':'Explicita o No', 'track.id':'id', 'track.name':'Nombre Cancion', 'track.popularity':'Popularidad Cancion'}\n",
    "    df_song_playlist= df_song_playlist.drop(columns=drop_col,axis=1)\n",
    "    df_song_playlist.rename(columns=cols_rename,inplace=True)\n",
    "    df_song_playlist['Duracion Cancion en MS'].astype(int)\n",
    "    df_song_playlist['Duracion Cancion en MIN'] = df_song_playlist['Duracion Cancion en MS']/60000\n",
    "\n",
    "    # Hacemos el DataFrame de todas las caracteristicas de las canciones obtenidas de las Playlist\n",
    "    song_features = []\n",
    "    # Obtenemos el listado de id de las canciones para poder buscar su info\n",
    "    canciones_id = df_song_playlist['id'].to_list()\n",
    "\n",
    "    # Buscamos la info de cada cancion\n",
    "    for i in canciones_id:\n",
    "        features = spotify.get_audio_features(i)\n",
    "        features_norm = pd.json_normalize(features)\n",
    "        # Creamos una lista con la info por cada cancion\n",
    "        song_features.append(features_norm)\n",
    "\n",
    "    df_features = pd.concat(song_features)\n",
    "    drop_cols =['type','uri','track_href', 'analysis_url', 'duration_ms','time_signature']\n",
    "    df_features= df_features.drop(columns=drop_cols,axis=1)\n",
    "    \n",
    "    data = pd.merge(df_song_playlist,df_features, on='id')\n",
    "    \n",
    "    # Pasamos las tablas a CSV\n",
    "    if ruta.upper() == 'RICARDO':\n",
    "        data.to_csv('.\\Ricardo\\Data Completa.csv')\n",
    "        df_song_playlist.to_csv('.\\Ricardo\\Canciones en Playlist.csv')\n",
    "        df_features.to_csv('.\\Ricardo\\Carateristicas de Canciones.csv')\n",
    "        playlist_norm.to_csv('.\\Ricardo\\Playlist.csv')\n",
    "        \n",
    "    elif ruta.upper() == 'BRENDA':\n",
    "        data.to_csv('.\\Brenda\\Data Completa.csv')\n",
    "        df_song_playlist.to_csv('.\\Brenda\\Canciones en Playlist.csv')\n",
    "        df_features.to_csv('.\\Brenda\\Carateristicas de Canciones.csv')\n",
    "        playlist_norm.to_csv('.\\Brenda\\Playlist.csv')"
   ]
  },
  {
   "cell_type": "code",
   "execution_count": 8,
   "metadata": {},
   "outputs": [],
   "source": [
    "def identificador_playlist(user_id):\n",
    "    playlist = spotify.get_user_playlist(user_id)\n",
    "\n",
    "    other_playlist= []\n",
    "\n",
    "    for i in range(len(playlist['items'])):\n",
    "        if playlist['items'][i]['name'].startswith('Brendiux'):\n",
    "            brendiux_playlist = playlist['items'][i]['id']\n",
    "        elif playlist['items'][i]['name'].startswith('Rikrdinii'):\n",
    "            rikrdinii_playlist = playlist['items'][i]['id']\n",
    "        else:\n",
    "            other_playlist.append(playlist['items'][i]['id'])\n",
    "    \n",
    "    r = input('¿Que Lista de reproduccion desea Analizar?: 1. Ricardo / 2.Brenda / 3. Otras Listas.  ')\n",
    "    if r.lower() == 'ricardo':\n",
    "        return rikrdinii_playlist\n",
    "    elif r.lower() == 'brenda':\n",
    "        return brendiux_playlist\n",
    "    #elif r.lower() == 'otras' or r.lower() == 'otras listas':\n",
    "    else:\n",
    "        return other_playlist"
   ]
  },
  {
   "cell_type": "code",
   "execution_count": 10,
   "metadata": {},
   "outputs": [
    {
     "name": "stdout",
     "output_type": "stream",
     "text": [
      "¿Que Lista de reproduccion desea Analizar?: 1. Ricardo / 2.Brenda / 3. Otras Listas.  ricardo\n",
      "Seleccione usuario: Ricardo o Brendaricardo\n"
     ]
    },
    {
     "ename": "KeyError",
     "evalue": "'items'",
     "output_type": "error",
     "traceback": [
      "\u001b[1;31m---------------------------------------------------------------------------\u001b[0m",
      "\u001b[1;31mKeyError\u001b[0m                                  Traceback (most recent call last)",
      "\u001b[1;32m<ipython-input-10-fff2b26e00e6>\u001b[0m in \u001b[0;36m<module>\u001b[1;34m\u001b[0m\n\u001b[1;32m----> 1\u001b[1;33m \u001b[0mplaylist_data\u001b[0m\u001b[1;33m(\u001b[0m\u001b[0midentificador_playlist\u001b[0m\u001b[1;33m(\u001b[0m\u001b[0mricardo\u001b[0m\u001b[1;33m)\u001b[0m\u001b[1;33m)\u001b[0m\u001b[1;33m\u001b[0m\u001b[1;33m\u001b[0m\u001b[0m\n\u001b[0m",
      "\u001b[1;32m<ipython-input-7-4053bb46cc48>\u001b[0m in \u001b[0;36mplaylist_data\u001b[1;34m(user_id)\u001b[0m\n\u001b[0;32m      3\u001b[0m     \u001b[1;31m# Obtenemos las listas de reproduccion del numero de usuario\u001b[0m\u001b[1;33m\u001b[0m\u001b[1;33m\u001b[0m\u001b[1;33m\u001b[0m\u001b[0m\n\u001b[0;32m      4\u001b[0m     \u001b[0mplaylist\u001b[0m \u001b[1;33m=\u001b[0m \u001b[0mspotify\u001b[0m\u001b[1;33m.\u001b[0m\u001b[0mget_user_playlist\u001b[0m\u001b[1;33m(\u001b[0m\u001b[0muser_id\u001b[0m\u001b[1;33m)\u001b[0m\u001b[1;33m\u001b[0m\u001b[1;33m\u001b[0m\u001b[0m\n\u001b[1;32m----> 5\u001b[1;33m     \u001b[0mid_playlist\u001b[0m \u001b[1;33m=\u001b[0m \u001b[1;33m[\u001b[0m\u001b[0mplaylist\u001b[0m\u001b[1;33m[\u001b[0m\u001b[1;34m'items'\u001b[0m\u001b[1;33m]\u001b[0m\u001b[1;33m[\u001b[0m\u001b[0mi\u001b[0m\u001b[1;33m]\u001b[0m\u001b[1;33m[\u001b[0m\u001b[1;34m'id'\u001b[0m\u001b[1;33m]\u001b[0m \u001b[1;32mfor\u001b[0m \u001b[0mi\u001b[0m \u001b[1;32min\u001b[0m \u001b[0mrange\u001b[0m\u001b[1;33m(\u001b[0m\u001b[0mlen\u001b[0m\u001b[1;33m(\u001b[0m\u001b[0mplaylist\u001b[0m\u001b[1;33m[\u001b[0m\u001b[1;34m'items'\u001b[0m\u001b[1;33m]\u001b[0m\u001b[1;33m)\u001b[0m\u001b[1;33m)\u001b[0m\u001b[1;33m]\u001b[0m\u001b[1;33m\u001b[0m\u001b[1;33m\u001b[0m\u001b[0m\n\u001b[0m\u001b[0;32m      6\u001b[0m     \u001b[1;31m# Normalizamos a DataFrame el Json\u001b[0m\u001b[1;33m\u001b[0m\u001b[1;33m\u001b[0m\u001b[1;33m\u001b[0m\u001b[0m\n\u001b[0;32m      7\u001b[0m     \u001b[0mplaylist_norm\u001b[0m \u001b[1;33m=\u001b[0m \u001b[0mpd\u001b[0m\u001b[1;33m.\u001b[0m\u001b[0mjson_normalize\u001b[0m\u001b[1;33m(\u001b[0m\u001b[0mplaylist\u001b[0m\u001b[1;33m[\u001b[0m\u001b[1;34m'items'\u001b[0m\u001b[1;33m]\u001b[0m\u001b[1;33m)\u001b[0m\u001b[1;33m\u001b[0m\u001b[1;33m\u001b[0m\u001b[0m\n",
      "\u001b[1;31mKeyError\u001b[0m: 'items'"
     ]
    }
   ],
   "source": []
  },
  {
   "cell_type": "code",
   "execution_count": null,
   "metadata": {},
   "outputs": [],
   "source": []
  },
  {
   "cell_type": "code",
   "execution_count": null,
   "metadata": {},
   "outputs": [],
   "source": []
  },
  {
   "cell_type": "code",
   "execution_count": null,
   "metadata": {},
   "outputs": [],
   "source": []
  },
  {
   "cell_type": "code",
   "execution_count": null,
   "metadata": {},
   "outputs": [],
   "source": []
  },
  {
   "cell_type": "code",
   "execution_count": null,
   "metadata": {},
   "outputs": [],
   "source": []
  },
  {
   "cell_type": "code",
   "execution_count": null,
   "metadata": {},
   "outputs": [],
   "source": []
  },
  {
   "cell_type": "code",
   "execution_count": null,
   "metadata": {},
   "outputs": [],
   "source": [
    "## Experimento\n",
    "\n",
    "\n",
    "playlist = spotify.get_user_playlist(brenda)\n",
    "id_playlist = [playlist['items'][i]['id'] for i in range(len(playlist['items']))]\n",
    "# Normalizamos a DataFrame el Json\n",
    "playlist_norm = pd.json_normalize(playlist['items'])\n",
    "\n",
    "# Generamos el DataFrame de las canciones de todas las listas de reproduccion\n",
    "df_canciones = []\n",
    "id_artistas = []\n",
    "for a in id_playlist:\n",
    "    lista_1 = spotify.get_song_playlist(a)\n",
    "    df = pd.json_normalize(lista_1['items'])\n",
    "    df_canciones.append(df)\n",
    "    for a in range(len(lista_1['items'])):\n",
    "        id_artista = lista_1['items'][a]['track']['artists'][0]['id']\n",
    "        id_artistas.append(id_artista)\n",
    "\n",
    "    \n",
    "df_song_playlist = pd.concat(df_canciones)\n",
    "drop_col = ['track.album.artists','track.album.type','added_at', 'is_local', 'primary_color','added_by.external_urls.spotify', 'added_by.href', 'added_by.id','added_by.type', 'added_by.uri', 'track.album.available_markets','track.album.external_urls.spotify', 'track.album.href','track.album.id', 'track.album.images','track.album.release_date', 'track.album.release_date_precision','track.album.total_tracks', 'track.album.uri','track.available_markets', 'track.disc_number', 'track.episode','track.external_ids.isrc', 'track.external_urls.spotify', 'track.href','track.is_local','track.preview_url', 'track.track', 'track.track_number', 'track.type','track.uri', 'video_thumbnail.url','track.artists']\n",
    "cols_rename={'track.album.album_type':'Tipo de Album', 'track.album.name':'Nombre del Album', 'track.duration_ms':'Duracion Cancion en MS','track.explicit':'Explicita o No', 'track.id':'id', 'track.name':'Nombre Cancion', 'track.popularity':'Popularidad Cancion'}\n",
    "df_song_playlist= df_song_playlist.drop(columns=drop_col,axis=1)\n",
    "df_song_playlist.rename(columns=cols_rename,inplace=True)\n",
    "df_song_playlist['Duracion Cancion en MS'].astype(int)\n",
    "df_song_playlist['Duracion Cancion en MIN'] = df_song_playlist['Duracion Cancion en MS']/60000\n",
    "\n",
    "\n",
    "id_artistas = set(id_artistas)\n",
    "df_artistas = []\n",
    "for i in range(len(id_artistas)):\n",
    "    data_artista= spotify.get_data_artist(i)\n",
    "    #total_seguidores = data_artista['followers']['total']\n",
    "    #nombre_artista = data_artista['name']\n",
    "    #generos = data_artista['genres']\n",
    "    df = pd.json_normalize(data_artista)\n",
    "    df_artistas.append(df)\n",
    "    \n",
    "df_artistas = pd.concat(df_artistas)\n",
    "df_artistas"
   ]
  }
 ],
 "metadata": {
  "kernelspec": {
   "display_name": "Python 3",
   "language": "python",
   "name": "python3"
  },
  "language_info": {
   "codemirror_mode": {
    "name": "ipython",
    "version": 3
   },
   "file_extension": ".py",
   "mimetype": "text/x-python",
   "name": "python",
   "nbconvert_exporter": "python",
   "pygments_lexer": "ipython3",
   "version": "3.8.5"
  },
  "toc": {
   "base_numbering": 1,
   "nav_menu": {},
   "number_sections": true,
   "sideBar": true,
   "skip_h1_title": false,
   "title_cell": "Table of Contents",
   "title_sidebar": "Contents",
   "toc_cell": false,
   "toc_position": {},
   "toc_section_display": true,
   "toc_window_display": false
  }
 },
 "nbformat": 4,
 "nbformat_minor": 4
}
