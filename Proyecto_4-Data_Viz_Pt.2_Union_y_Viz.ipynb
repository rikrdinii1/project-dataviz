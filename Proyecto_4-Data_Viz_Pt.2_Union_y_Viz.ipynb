{
 "cells": [
  {
   "cell_type": "markdown",
   "metadata": {},
   "source": [
    "# Proyecto 4 Ironhack. \n",
    "Visualizacion de Datos\n",
    "\n",
    "### Parte 2. Analisis de los Datos Obtenidos\n",
    "#### Ricardo Fuentes Carbó"
   ]
  },
  {
   "cell_type": "code",
   "execution_count": 1,
   "metadata": {},
   "outputs": [],
   "source": [
    "import pandas as pd\n",
    "import numpy as np\n",
    "import seaborn as sns\n",
    "import matplotlib.pyplot as plt\n",
    "import plotly.express as px\n",
    "import plotly.graph_objects as go\n",
    "import seaborn as sns\n",
    "sns.set()"
   ]
  },
  {
   "cell_type": "code",
   "execution_count": 2,
   "metadata": {},
   "outputs": [],
   "source": [
    "\"\"\"\n",
    "En esta parte del codigo lo que hacemos es primero cargar los datos que ya habiamos descargado previamente, despúes los unimos para\n",
    "poder hacer un mejor analisis en conjunto, ya que lo que se busca es poder comparar las listas de reproduccion.\n",
    "Y ahora si, podemos proceder a realizar algunas graficas. \n",
    "\"\"\"\n",
    "\n",
    "# Primero leemos los archivos\n",
    "# Iniciamos con Brenda\n",
    "Bren_playlist = pd.read_csv('.\\Brenda\\Brenda_Tabla_Playlist.csv')\n",
    "Bren_canciones= pd.read_csv('.\\Brenda\\Brenda_Tabla_Canciones_Playlist_Seleccionada.csv')\n",
    "Bren_features_canciones = pd.read_csv('.\\Brenda\\Brenda_Tabla_Caracteristicas_Canciones.csv')\n",
    "Bren_info_artistas= pd.read_csv('.\\Brenda\\Brenda_Tabla_Info_Artistas.csv')\n",
    "# Agregamos la columna con el usuario para poder identificar posteriormente que df corresponde a quien\n",
    "Bren_playlist['Usuario'] = 'Brenda'\n",
    "Bren_canciones['Usuario'] = 'Brenda'\n",
    "Bren_features_canciones['Usuario'] = 'Brenda'\n",
    "Bren_info_artistas['Usuario'] = 'Brenda'\n",
    "\n",
    "# Seguimos con los mios\n",
    "Ricardo_playlist = pd.read_csv('.\\Ricardo\\Ricardo_Tabla_Playlist.csv')\n",
    "Ricardo_canciones= pd.read_csv('.\\Ricardo\\Ricardo_Tabla_Canciones_Playlist_Seleccionada.csv')\n",
    "Ricardo_features_canciones = pd.read_csv('.\\Ricardo\\Ricardo_Tabla_Caracteristicas_Canciones.csv')\n",
    "Ricardo_info_artistas= pd.read_csv('.\\Ricardo\\Ricardo_Tabla_Info_Artistas.csv')\n",
    "# Agregamos la columna con el usuario para poder identificar posteriormente que df corresponde a quien\n",
    "Ricardo_playlist['Usuario'] = 'Ricardo'\n",
    "Ricardo_canciones['Usuario'] = 'Ricardo'\n",
    "Ricardo_features_canciones['Usuario'] = 'Ricardo'\n",
    "Ricardo_info_artistas['Usuario'] = 'Ricardo'\n",
    "\n",
    "# Creamos un solo df para cada tabla de informacion\n",
    "df_playlist_general=pd.concat([Bren_playlist,Ricardo_playlist],axis=0).reset_index(drop=True)\n",
    "df_canciones_general=pd.concat([Bren_canciones,Ricardo_canciones],axis=0).reset_index(drop=True)\n",
    "df_features_canciones_general=pd.concat([Bren_features_canciones,Ricardo_features_canciones],axis=0).reset_index(drop=True)\n",
    "df_info_artistas_general=pd.concat([Bren_info_artistas,Ricardo_info_artistas],axis=0).reset_index(drop=True)\n",
    "\n",
    "# Los guardamos en csv para tambien poder analizarlos con PowerBI y/o Tableu\n",
    "df_playlist_general.to_csv('.\\General\\Tabla_Playlist.csv')\n",
    "df_canciones_general.to_csv('.\\General\\Canciones_General.csv')\n",
    "df_features_canciones_general.to_csv('.\\General\\Features_Canciones.csv')\n",
    "df_info_artistas_general.to_csv('.\\General\\Info_Artistas.csv')"
   ]
  },
  {
   "cell_type": "markdown",
   "metadata": {},
   "source": [
    "## Iniciamos con unas Visualizaciones de la Info"
   ]
  },
  {
   "cell_type": "code",
   "execution_count": 3,
   "metadata": {},
   "outputs": [
    {
     "data": {
      "text/html": [
       "<div>\n",
       "<style scoped>\n",
       "    .dataframe tbody tr th:only-of-type {\n",
       "        vertical-align: middle;\n",
       "    }\n",
       "\n",
       "    .dataframe tbody tr th {\n",
       "        vertical-align: top;\n",
       "    }\n",
       "\n",
       "    .dataframe thead th {\n",
       "        text-align: right;\n",
       "    }\n",
       "</style>\n",
       "<table border=\"1\" class=\"dataframe\">\n",
       "  <thead>\n",
       "    <tr style=\"text-align: right;\">\n",
       "      <th></th>\n",
       "      <th>Unnamed: 0</th>\n",
       "      <th>Tipo de Album</th>\n",
       "      <th>Nombre del Album</th>\n",
       "      <th>Tipo de Album.1</th>\n",
       "      <th>Duracion Cancion en MS</th>\n",
       "      <th>Explicita o No</th>\n",
       "      <th>id</th>\n",
       "      <th>Nombre Cancion</th>\n",
       "      <th>Popularidad Cancion</th>\n",
       "      <th>Duracion Cancion en MIN</th>\n",
       "      <th>ID Playlist</th>\n",
       "      <th>Usuario</th>\n",
       "    </tr>\n",
       "  </thead>\n",
       "  <tbody>\n",
       "    <tr>\n",
       "      <th>0</th>\n",
       "      <td>0</td>\n",
       "      <td>single</td>\n",
       "      <td>Dibújame</td>\n",
       "      <td>album</td>\n",
       "      <td>236932</td>\n",
       "      <td>False</td>\n",
       "      <td>0RKglZdTQ7BLrs6vplb2qm</td>\n",
       "      <td>Dibújame</td>\n",
       "      <td>71</td>\n",
       "      <td>3.948867</td>\n",
       "      <td>6yk3BrGrCQ4TMCutpuIHXS</td>\n",
       "      <td>Brenda</td>\n",
       "    </tr>\n",
       "    <tr>\n",
       "      <th>1</th>\n",
       "      <td>1</td>\n",
       "      <td>single</td>\n",
       "      <td>Pa' Olvidarme De Ella</td>\n",
       "      <td>album</td>\n",
       "      <td>227233</td>\n",
       "      <td>True</td>\n",
       "      <td>1cVlW9WQiGlFdWUXFdFZGh</td>\n",
       "      <td>Pa' Olvidarme De Ella</td>\n",
       "      <td>84</td>\n",
       "      <td>3.787217</td>\n",
       "      <td>6yk3BrGrCQ4TMCutpuIHXS</td>\n",
       "      <td>Brenda</td>\n",
       "    </tr>\n",
       "    <tr>\n",
       "      <th>2</th>\n",
       "      <td>2</td>\n",
       "      <td>album</td>\n",
       "      <td>Playa Sax</td>\n",
       "      <td>album</td>\n",
       "      <td>144018</td>\n",
       "      <td>False</td>\n",
       "      <td>3Fc7UXQiievrLVVxmqCYFa</td>\n",
       "      <td>Havana (Sax Version)</td>\n",
       "      <td>34</td>\n",
       "      <td>2.400300</td>\n",
       "      <td>6yk3BrGrCQ4TMCutpuIHXS</td>\n",
       "      <td>Brenda</td>\n",
       "    </tr>\n",
       "    <tr>\n",
       "      <th>3</th>\n",
       "      <td>3</td>\n",
       "      <td>album</td>\n",
       "      <td>Tattoos (Deluxe Edition)</td>\n",
       "      <td>album</td>\n",
       "      <td>193295</td>\n",
       "      <td>False</td>\n",
       "      <td>4B4zDmbHdkXZ1wUJv1yKFy</td>\n",
       "      <td>Wiggle (feat. Snoop Dogg)</td>\n",
       "      <td>68</td>\n",
       "      <td>3.221583</td>\n",
       "      <td>6yk3BrGrCQ4TMCutpuIHXS</td>\n",
       "      <td>Brenda</td>\n",
       "    </tr>\n",
       "    <tr>\n",
       "      <th>4</th>\n",
       "      <td>4</td>\n",
       "      <td>album</td>\n",
       "      <td>Dos Necios de Verdad</td>\n",
       "      <td>album</td>\n",
       "      <td>306413</td>\n",
       "      <td>False</td>\n",
       "      <td>53wqj8xuyBZIpk8Ubp9gFp</td>\n",
       "      <td>Será</td>\n",
       "      <td>0</td>\n",
       "      <td>5.106883</td>\n",
       "      <td>6yk3BrGrCQ4TMCutpuIHXS</td>\n",
       "      <td>Brenda</td>\n",
       "    </tr>\n",
       "    <tr>\n",
       "      <th>5</th>\n",
       "      <td>5</td>\n",
       "      <td>single</td>\n",
       "      <td>10 A.M.</td>\n",
       "      <td>album</td>\n",
       "      <td>210240</td>\n",
       "      <td>False</td>\n",
       "      <td>6m7iROft03ArIACgwVjL72</td>\n",
       "      <td>10 A.M.</td>\n",
       "      <td>0</td>\n",
       "      <td>3.504000</td>\n",
       "      <td>6yk3BrGrCQ4TMCutpuIHXS</td>\n",
       "      <td>Brenda</td>\n",
       "    </tr>\n",
       "    <tr>\n",
       "      <th>6</th>\n",
       "      <td>6</td>\n",
       "      <td>single</td>\n",
       "      <td>Hello</td>\n",
       "      <td>album</td>\n",
       "      <td>295493</td>\n",
       "      <td>False</td>\n",
       "      <td>0ENSn4fwAbCGeFGVUbXEU3</td>\n",
       "      <td>Hello</td>\n",
       "      <td>61</td>\n",
       "      <td>4.924883</td>\n",
       "      <td>6yk3BrGrCQ4TMCutpuIHXS</td>\n",
       "      <td>Brenda</td>\n",
       "    </tr>\n",
       "    <tr>\n",
       "      <th>7</th>\n",
       "      <td>7</td>\n",
       "      <td>single</td>\n",
       "      <td>I Don't Know You</td>\n",
       "      <td>album</td>\n",
       "      <td>209449</td>\n",
       "      <td>False</td>\n",
       "      <td>4cJOLN346rtOty3UPACsao</td>\n",
       "      <td>I Don't Know You</td>\n",
       "      <td>67</td>\n",
       "      <td>3.490817</td>\n",
       "      <td>6yk3BrGrCQ4TMCutpuIHXS</td>\n",
       "      <td>Brenda</td>\n",
       "    </tr>\n",
       "    <tr>\n",
       "      <th>8</th>\n",
       "      <td>8</td>\n",
       "      <td>single</td>\n",
       "      <td>Come and Get Your Love</td>\n",
       "      <td>album</td>\n",
       "      <td>205933</td>\n",
       "      <td>False</td>\n",
       "      <td>7GVUmCP00eSsqc4tzj1sDD</td>\n",
       "      <td>Come and Get Your Love - Single Version</td>\n",
       "      <td>77</td>\n",
       "      <td>3.432217</td>\n",
       "      <td>6yk3BrGrCQ4TMCutpuIHXS</td>\n",
       "      <td>Brenda</td>\n",
       "    </tr>\n",
       "    <tr>\n",
       "      <th>9</th>\n",
       "      <td>9</td>\n",
       "      <td>album</td>\n",
       "      <td>Queremos Rock</td>\n",
       "      <td>album</td>\n",
       "      <td>259398</td>\n",
       "      <td>False</td>\n",
       "      <td>2LSa3F2AZldoF2jSCxG5re</td>\n",
       "      <td>Mil Demonios</td>\n",
       "      <td>65</td>\n",
       "      <td>4.323300</td>\n",
       "      <td>6yk3BrGrCQ4TMCutpuIHXS</td>\n",
       "      <td>Brenda</td>\n",
       "    </tr>\n",
       "    <tr>\n",
       "      <th>10</th>\n",
       "      <td>10</td>\n",
       "      <td>compilation</td>\n",
       "      <td>The Best Of Big Mountain</td>\n",
       "      <td>album</td>\n",
       "      <td>249520</td>\n",
       "      <td>False</td>\n",
       "      <td>1Rvl8qsKJurfFTyWLBI9ib</td>\n",
       "      <td>Baby, I Love Your Way</td>\n",
       "      <td>69</td>\n",
       "      <td>4.158667</td>\n",
       "      <td>6yk3BrGrCQ4TMCutpuIHXS</td>\n",
       "      <td>Brenda</td>\n",
       "    </tr>\n",
       "    <tr>\n",
       "      <th>11</th>\n",
       "      <td>11</td>\n",
       "      <td>single</td>\n",
       "      <td>Ella Se Mueve</td>\n",
       "      <td>album</td>\n",
       "      <td>234910</td>\n",
       "      <td>False</td>\n",
       "      <td>7r9JHOYtIfnviFQD8i6L2l</td>\n",
       "      <td>Ella Se Mueve</td>\n",
       "      <td>32</td>\n",
       "      <td>3.915167</td>\n",
       "      <td>6yk3BrGrCQ4TMCutpuIHXS</td>\n",
       "      <td>Brenda</td>\n",
       "    </tr>\n",
       "    <tr>\n",
       "      <th>12</th>\n",
       "      <td>12</td>\n",
       "      <td>single</td>\n",
       "      <td>Trumpets</td>\n",
       "      <td>album</td>\n",
       "      <td>206400</td>\n",
       "      <td>False</td>\n",
       "      <td>6Ovnso88y3EQqSGpHANYtr</td>\n",
       "      <td>Trumpets - Radio Mix</td>\n",
       "      <td>0</td>\n",
       "      <td>3.440000</td>\n",
       "      <td>6yk3BrGrCQ4TMCutpuIHXS</td>\n",
       "      <td>Brenda</td>\n",
       "    </tr>\n",
       "    <tr>\n",
       "      <th>13</th>\n",
       "      <td>13</td>\n",
       "      <td>album</td>\n",
       "      <td>Fore!</td>\n",
       "      <td>album</td>\n",
       "      <td>245466</td>\n",
       "      <td>False</td>\n",
       "      <td>648BMGrt98kUbLo24A4vgj</td>\n",
       "      <td>Hip To Be Square</td>\n",
       "      <td>65</td>\n",
       "      <td>4.091100</td>\n",
       "      <td>6yk3BrGrCQ4TMCutpuIHXS</td>\n",
       "      <td>Brenda</td>\n",
       "    </tr>\n",
       "    <tr>\n",
       "      <th>14</th>\n",
       "      <td>14</td>\n",
       "      <td>album</td>\n",
       "      <td>30 años y un día</td>\n",
       "      <td>album</td>\n",
       "      <td>205826</td>\n",
       "      <td>False</td>\n",
       "      <td>2b4YmTAw00De49Pdbm3P6S</td>\n",
       "      <td>Visite nuestro bar - Remaster 2015</td>\n",
       "      <td>43</td>\n",
       "      <td>3.430433</td>\n",
       "      <td>6yk3BrGrCQ4TMCutpuIHXS</td>\n",
       "      <td>Brenda</td>\n",
       "    </tr>\n",
       "    <tr>\n",
       "      <th>15</th>\n",
       "      <td>15</td>\n",
       "      <td>album</td>\n",
       "      <td>El Objeto Antes Llamado Disco</td>\n",
       "      <td>album</td>\n",
       "      <td>254173</td>\n",
       "      <td>False</td>\n",
       "      <td>2GvI8j0DaIAGvubj5NinEF</td>\n",
       "      <td>Aprovéchate</td>\n",
       "      <td>61</td>\n",
       "      <td>4.236217</td>\n",
       "      <td>6yk3BrGrCQ4TMCutpuIHXS</td>\n",
       "      <td>Brenda</td>\n",
       "    </tr>\n",
       "    <tr>\n",
       "      <th>16</th>\n",
       "      <td>16</td>\n",
       "      <td>compilation</td>\n",
       "      <td>Me Verás Volver (Hits &amp; Más)</td>\n",
       "      <td>album</td>\n",
       "      <td>292266</td>\n",
       "      <td>False</td>\n",
       "      <td>5wCUdBsdubZ3ZFoJoRsMrY</td>\n",
       "      <td>Persiana Americana - Remasterizado 2007</td>\n",
       "      <td>65</td>\n",
       "      <td>4.871100</td>\n",
       "      <td>6yk3BrGrCQ4TMCutpuIHXS</td>\n",
       "      <td>Brenda</td>\n",
       "    </tr>\n",
       "    <tr>\n",
       "      <th>17</th>\n",
       "      <td>17</td>\n",
       "      <td>album</td>\n",
       "      <td>Las Consecuencias</td>\n",
       "      <td>album</td>\n",
       "      <td>233960</td>\n",
       "      <td>False</td>\n",
       "      <td>73KNzyiG6xM6xguaLe4ICj</td>\n",
       "      <td>Frente a frente (feat. Tulsa)</td>\n",
       "      <td>65</td>\n",
       "      <td>3.899333</td>\n",
       "      <td>6yk3BrGrCQ4TMCutpuIHXS</td>\n",
       "      <td>Brenda</td>\n",
       "    </tr>\n",
       "    <tr>\n",
       "      <th>18</th>\n",
       "      <td>18</td>\n",
       "      <td>album</td>\n",
       "      <td>Fabricando Fantasías</td>\n",
       "      <td>album</td>\n",
       "      <td>272266</td>\n",
       "      <td>False</td>\n",
       "      <td>5bkWgrKyNhMcriQP3CrHEA</td>\n",
       "      <td>Fabricando Fantasías - Salsa Version</td>\n",
       "      <td>65</td>\n",
       "      <td>4.537767</td>\n",
       "      <td>6yk3BrGrCQ4TMCutpuIHXS</td>\n",
       "      <td>Brenda</td>\n",
       "    </tr>\n",
       "    <tr>\n",
       "      <th>19</th>\n",
       "      <td>19</td>\n",
       "      <td>single</td>\n",
       "      <td>Vete</td>\n",
       "      <td>album</td>\n",
       "      <td>206546</td>\n",
       "      <td>False</td>\n",
       "      <td>3IUoi4GkPLZY79QGoEHfF0</td>\n",
       "      <td>Vete</td>\n",
       "      <td>43</td>\n",
       "      <td>3.442433</td>\n",
       "      <td>6yk3BrGrCQ4TMCutpuIHXS</td>\n",
       "      <td>Brenda</td>\n",
       "    </tr>\n",
       "    <tr>\n",
       "      <th>20</th>\n",
       "      <td>20</td>\n",
       "      <td>album</td>\n",
       "      <td>Que Hago Aquí?</td>\n",
       "      <td>album</td>\n",
       "      <td>221600</td>\n",
       "      <td>False</td>\n",
       "      <td>6FmwfLbteUqHfcz10Ab9yY</td>\n",
       "      <td>Dr. Psiquiatra</td>\n",
       "      <td>61</td>\n",
       "      <td>3.693333</td>\n",
       "      <td>6yk3BrGrCQ4TMCutpuIHXS</td>\n",
       "      <td>Brenda</td>\n",
       "    </tr>\n",
       "    <tr>\n",
       "      <th>21</th>\n",
       "      <td>21</td>\n",
       "      <td>single</td>\n",
       "      <td>Verano Azul</td>\n",
       "      <td>album</td>\n",
       "      <td>190560</td>\n",
       "      <td>False</td>\n",
       "      <td>0dgwWXkfcWyB2a2qTgEc0F</td>\n",
       "      <td>Verano Azul</td>\n",
       "      <td>66</td>\n",
       "      <td>3.176000</td>\n",
       "      <td>6yk3BrGrCQ4TMCutpuIHXS</td>\n",
       "      <td>Brenda</td>\n",
       "    </tr>\n",
       "    <tr>\n",
       "      <th>22</th>\n",
       "      <td>0</td>\n",
       "      <td>album</td>\n",
       "      <td>Sigh No More</td>\n",
       "      <td>album</td>\n",
       "      <td>280653</td>\n",
       "      <td>False</td>\n",
       "      <td>1lO8VQK74G6Bvvf05BH4o5</td>\n",
       "      <td>Dust Bowl Dance</td>\n",
       "      <td>40</td>\n",
       "      <td>4.677550</td>\n",
       "      <td>1ayJnO4tsfmdDgCrb9GeVX</td>\n",
       "      <td>Ricardo</td>\n",
       "    </tr>\n",
       "    <tr>\n",
       "      <th>23</th>\n",
       "      <td>1</td>\n",
       "      <td>single</td>\n",
       "      <td>Johannesburg</td>\n",
       "      <td>album</td>\n",
       "      <td>267946</td>\n",
       "      <td>False</td>\n",
       "      <td>3BqDKQg8onwppXlPw4SYnZ</td>\n",
       "      <td>There Will Be Time</td>\n",
       "      <td>58</td>\n",
       "      <td>4.465767</td>\n",
       "      <td>1ayJnO4tsfmdDgCrb9GeVX</td>\n",
       "      <td>Ricardo</td>\n",
       "    </tr>\n",
       "    <tr>\n",
       "      <th>24</th>\n",
       "      <td>2</td>\n",
       "      <td>album</td>\n",
       "      <td>Avalancha</td>\n",
       "      <td>album</td>\n",
       "      <td>327426</td>\n",
       "      <td>False</td>\n",
       "      <td>4vkSJSyPddHwL7v3l1cuRf</td>\n",
       "      <td>La chispa adecuada (Bendecida 3)</td>\n",
       "      <td>64</td>\n",
       "      <td>5.457100</td>\n",
       "      <td>1ayJnO4tsfmdDgCrb9GeVX</td>\n",
       "      <td>Ricardo</td>\n",
       "    </tr>\n",
       "    <tr>\n",
       "      <th>25</th>\n",
       "      <td>3</td>\n",
       "      <td>album</td>\n",
       "      <td>Lost on You</td>\n",
       "      <td>album</td>\n",
       "      <td>268105</td>\n",
       "      <td>False</td>\n",
       "      <td>2LIh4uzqq9cXMPzzmcToHl</td>\n",
       "      <td>Lost on You</td>\n",
       "      <td>76</td>\n",
       "      <td>4.468417</td>\n",
       "      <td>1ayJnO4tsfmdDgCrb9GeVX</td>\n",
       "      <td>Ricardo</td>\n",
       "    </tr>\n",
       "    <tr>\n",
       "      <th>26</th>\n",
       "      <td>4</td>\n",
       "      <td>album</td>\n",
       "      <td>En Vivo 25 Aniversario</td>\n",
       "      <td>album</td>\n",
       "      <td>318520</td>\n",
       "      <td>False</td>\n",
       "      <td>53gDb3nG9sMytzVzD6UCMb</td>\n",
       "      <td>Cenit</td>\n",
       "      <td>43</td>\n",
       "      <td>5.308667</td>\n",
       "      <td>1ayJnO4tsfmdDgCrb9GeVX</td>\n",
       "      <td>Ricardo</td>\n",
       "    </tr>\n",
       "    <tr>\n",
       "      <th>27</th>\n",
       "      <td>5</td>\n",
       "      <td>album</td>\n",
       "      <td>Come What(ever) May [10th Anniversary Edition]</td>\n",
       "      <td>album</td>\n",
       "      <td>282946</td>\n",
       "      <td>False</td>\n",
       "      <td>5NeIONQWJ25uPylJBJiO4c</td>\n",
       "      <td>Through Glass</td>\n",
       "      <td>73</td>\n",
       "      <td>4.715767</td>\n",
       "      <td>1ayJnO4tsfmdDgCrb9GeVX</td>\n",
       "      <td>Ricardo</td>\n",
       "    </tr>\n",
       "    <tr>\n",
       "      <th>28</th>\n",
       "      <td>6</td>\n",
       "      <td>compilation</td>\n",
       "      <td>Bonfire</td>\n",
       "      <td>album</td>\n",
       "      <td>316733</td>\n",
       "      <td>False</td>\n",
       "      <td>3EQjW604d5Cfbn8FnZmqyF</td>\n",
       "      <td>It's a Long Way to the Top (If You Wanna Rock ...</td>\n",
       "      <td>39</td>\n",
       "      <td>5.278883</td>\n",
       "      <td>1ayJnO4tsfmdDgCrb9GeVX</td>\n",
       "      <td>Ricardo</td>\n",
       "    </tr>\n",
       "    <tr>\n",
       "      <th>29</th>\n",
       "      <td>7</td>\n",
       "      <td>album</td>\n",
       "      <td>Zaz</td>\n",
       "      <td>album</td>\n",
       "      <td>215933</td>\n",
       "      <td>False</td>\n",
       "      <td>734dz1YaFITwawPpM25fSt</td>\n",
       "      <td>Je veux</td>\n",
       "      <td>69</td>\n",
       "      <td>3.598883</td>\n",
       "      <td>1ayJnO4tsfmdDgCrb9GeVX</td>\n",
       "      <td>Ricardo</td>\n",
       "    </tr>\n",
       "    <tr>\n",
       "      <th>30</th>\n",
       "      <td>8</td>\n",
       "      <td>single</td>\n",
       "      <td>The Kids Are Coming</td>\n",
       "      <td>album</td>\n",
       "      <td>209438</td>\n",
       "      <td>False</td>\n",
       "      <td>5ZULALImTm80tzUbYQYM9d</td>\n",
       "      <td>Dance Monkey</td>\n",
       "      <td>81</td>\n",
       "      <td>3.490633</td>\n",
       "      <td>1ayJnO4tsfmdDgCrb9GeVX</td>\n",
       "      <td>Ricardo</td>\n",
       "    </tr>\n",
       "    <tr>\n",
       "      <th>31</th>\n",
       "      <td>9</td>\n",
       "      <td>album</td>\n",
       "      <td>Dire Straits</td>\n",
       "      <td>album</td>\n",
       "      <td>348400</td>\n",
       "      <td>False</td>\n",
       "      <td>37Tmv4NnfQeb0ZgUC4fOJj</td>\n",
       "      <td>Sultans Of Swing</td>\n",
       "      <td>81</td>\n",
       "      <td>5.806667</td>\n",
       "      <td>1ayJnO4tsfmdDgCrb9GeVX</td>\n",
       "      <td>Ricardo</td>\n",
       "    </tr>\n",
       "    <tr>\n",
       "      <th>32</th>\n",
       "      <td>10</td>\n",
       "      <td>album</td>\n",
       "      <td>Bad Blood</td>\n",
       "      <td>album</td>\n",
       "      <td>214147</td>\n",
       "      <td>False</td>\n",
       "      <td>6fNhZRFEkBfgW39W3wKARJ</td>\n",
       "      <td>Pompeii</td>\n",
       "      <td>73</td>\n",
       "      <td>3.569117</td>\n",
       "      <td>1ayJnO4tsfmdDgCrb9GeVX</td>\n",
       "      <td>Ricardo</td>\n",
       "    </tr>\n",
       "    <tr>\n",
       "      <th>33</th>\n",
       "      <td>11</td>\n",
       "      <td>album</td>\n",
       "      <td>Led Zeppelin IV (Deluxe Edition)</td>\n",
       "      <td>album</td>\n",
       "      <td>482830</td>\n",
       "      <td>False</td>\n",
       "      <td>5CQ30WqJwcep0pYcV4AMNc</td>\n",
       "      <td>Stairway to Heaven - Remaster</td>\n",
       "      <td>79</td>\n",
       "      <td>8.047167</td>\n",
       "      <td>1ayJnO4tsfmdDgCrb9GeVX</td>\n",
       "      <td>Ricardo</td>\n",
       "    </tr>\n",
       "    <tr>\n",
       "      <th>34</th>\n",
       "      <td>12</td>\n",
       "      <td>album</td>\n",
       "      <td>Use Your Illusion I</td>\n",
       "      <td>album</td>\n",
       "      <td>536066</td>\n",
       "      <td>False</td>\n",
       "      <td>3YRCqOhFifThpSRFJ1VWFM</td>\n",
       "      <td>November Rain</td>\n",
       "      <td>81</td>\n",
       "      <td>8.934433</td>\n",
       "      <td>1ayJnO4tsfmdDgCrb9GeVX</td>\n",
       "      <td>Ricardo</td>\n",
       "    </tr>\n",
       "    <tr>\n",
       "      <th>35</th>\n",
       "      <td>13</td>\n",
       "      <td>album</td>\n",
       "      <td>Overexposed (Deluxe)</td>\n",
       "      <td>album</td>\n",
       "      <td>219466</td>\n",
       "      <td>False</td>\n",
       "      <td>4XNrMwGx1SqP01sqkGTDmo</td>\n",
       "      <td>One More Night</td>\n",
       "      <td>67</td>\n",
       "      <td>3.657767</td>\n",
       "      <td>1ayJnO4tsfmdDgCrb9GeVX</td>\n",
       "      <td>Ricardo</td>\n",
       "    </tr>\n",
       "    <tr>\n",
       "      <th>36</th>\n",
       "      <td>14</td>\n",
       "      <td>album</td>\n",
       "      <td>Wanted on Voyage</td>\n",
       "      <td>album</td>\n",
       "      <td>200720</td>\n",
       "      <td>False</td>\n",
       "      <td>7GJClzimvMSghjcrKxuf1M</td>\n",
       "      <td>Budapest</td>\n",
       "      <td>37</td>\n",
       "      <td>3.345333</td>\n",
       "      <td>1ayJnO4tsfmdDgCrb9GeVX</td>\n",
       "      <td>Ricardo</td>\n",
       "    </tr>\n",
       "    <tr>\n",
       "      <th>37</th>\n",
       "      <td>15</td>\n",
       "      <td>compilation</td>\n",
       "      <td>Video Rola</td>\n",
       "      <td>album</td>\n",
       "      <td>229800</td>\n",
       "      <td>False</td>\n",
       "      <td>4mQwxVqjcHdUEfwSWEOopx</td>\n",
       "      <td>Amargo Adiós</td>\n",
       "      <td>64</td>\n",
       "      <td>3.830000</td>\n",
       "      <td>1ayJnO4tsfmdDgCrb9GeVX</td>\n",
       "      <td>Ricardo</td>\n",
       "    </tr>\n",
       "    <tr>\n",
       "      <th>38</th>\n",
       "      <td>16</td>\n",
       "      <td>album</td>\n",
       "      <td>Un Panteon Muy Vivo</td>\n",
       "      <td>album</td>\n",
       "      <td>389723</td>\n",
       "      <td>False</td>\n",
       "      <td>5aLGdqM8EbHC3B1iKWKDIJ</td>\n",
       "      <td>La Dosis Perfecta</td>\n",
       "      <td>42</td>\n",
       "      <td>6.495383</td>\n",
       "      <td>1ayJnO4tsfmdDgCrb9GeVX</td>\n",
       "      <td>Ricardo</td>\n",
       "    </tr>\n",
       "    <tr>\n",
       "      <th>39</th>\n",
       "      <td>17</td>\n",
       "      <td>album</td>\n",
       "      <td>Sounds Of The Universe</td>\n",
       "      <td>album</td>\n",
       "      <td>193680</td>\n",
       "      <td>False</td>\n",
       "      <td>3Y8pg3FF5FivDAboCKnGOP</td>\n",
       "      <td>Wrong</td>\n",
       "      <td>0</td>\n",
       "      <td>3.228000</td>\n",
       "      <td>1ayJnO4tsfmdDgCrb9GeVX</td>\n",
       "      <td>Ricardo</td>\n",
       "    </tr>\n",
       "    <tr>\n",
       "      <th>40</th>\n",
       "      <td>18</td>\n",
       "      <td>compilation</td>\n",
       "      <td>Electronic Music for Study (chill brain, study...</td>\n",
       "      <td>album</td>\n",
       "      <td>789000</td>\n",
       "      <td>False</td>\n",
       "      <td>5IozbYa5blWCyX4gP0cMOQ</td>\n",
       "      <td>Algorithms</td>\n",
       "      <td>0</td>\n",
       "      <td>13.150000</td>\n",
       "      <td>1ayJnO4tsfmdDgCrb9GeVX</td>\n",
       "      <td>Ricardo</td>\n",
       "    </tr>\n",
       "    <tr>\n",
       "      <th>41</th>\n",
       "      <td>19</td>\n",
       "      <td>album</td>\n",
       "      <td>Anthology 1970-1994</td>\n",
       "      <td>album</td>\n",
       "      <td>190893</td>\n",
       "      <td>False</td>\n",
       "      <td>5SJXf9SpztjrAyr7SsX8od</td>\n",
       "      <td>Low Rider</td>\n",
       "      <td>0</td>\n",
       "      <td>3.181550</td>\n",
       "      <td>1ayJnO4tsfmdDgCrb9GeVX</td>\n",
       "      <td>Ricardo</td>\n",
       "    </tr>\n",
       "    <tr>\n",
       "      <th>42</th>\n",
       "      <td>20</td>\n",
       "      <td>album</td>\n",
       "      <td>Songs of Faith and Devotion (2006 Remaster)</td>\n",
       "      <td>album</td>\n",
       "      <td>276080</td>\n",
       "      <td>False</td>\n",
       "      <td>1Ob57NqUydp5cC3FCNV4Gy</td>\n",
       "      <td>I Feel You - 2006 Remaster</td>\n",
       "      <td>46</td>\n",
       "      <td>4.601333</td>\n",
       "      <td>1ayJnO4tsfmdDgCrb9GeVX</td>\n",
       "      <td>Ricardo</td>\n",
       "    </tr>\n",
       "    <tr>\n",
       "      <th>43</th>\n",
       "      <td>21</td>\n",
       "      <td>album</td>\n",
       "      <td>Good Company</td>\n",
       "      <td>album</td>\n",
       "      <td>245320</td>\n",
       "      <td>False</td>\n",
       "      <td>4eMxLQtSdgxdA1Hs6D2YuN</td>\n",
       "      <td>In Hell I'll Be in Good Company</td>\n",
       "      <td>63</td>\n",
       "      <td>4.088667</td>\n",
       "      <td>1ayJnO4tsfmdDgCrb9GeVX</td>\n",
       "      <td>Ricardo</td>\n",
       "    </tr>\n",
       "  </tbody>\n",
       "</table>\n",
       "</div>"
      ],
      "text/plain": [
       "    Unnamed: 0 Tipo de Album  \\\n",
       "0            0        single   \n",
       "1            1        single   \n",
       "2            2         album   \n",
       "3            3         album   \n",
       "4            4         album   \n",
       "5            5        single   \n",
       "6            6        single   \n",
       "7            7        single   \n",
       "8            8        single   \n",
       "9            9         album   \n",
       "10          10   compilation   \n",
       "11          11        single   \n",
       "12          12        single   \n",
       "13          13         album   \n",
       "14          14         album   \n",
       "15          15         album   \n",
       "16          16   compilation   \n",
       "17          17         album   \n",
       "18          18         album   \n",
       "19          19        single   \n",
       "20          20         album   \n",
       "21          21        single   \n",
       "22           0         album   \n",
       "23           1        single   \n",
       "24           2         album   \n",
       "25           3         album   \n",
       "26           4         album   \n",
       "27           5         album   \n",
       "28           6   compilation   \n",
       "29           7         album   \n",
       "30           8        single   \n",
       "31           9         album   \n",
       "32          10         album   \n",
       "33          11         album   \n",
       "34          12         album   \n",
       "35          13         album   \n",
       "36          14         album   \n",
       "37          15   compilation   \n",
       "38          16         album   \n",
       "39          17         album   \n",
       "40          18   compilation   \n",
       "41          19         album   \n",
       "42          20         album   \n",
       "43          21         album   \n",
       "\n",
       "                                     Nombre del Album Tipo de Album.1  \\\n",
       "0                                            Dibújame           album   \n",
       "1                               Pa' Olvidarme De Ella           album   \n",
       "2                                           Playa Sax           album   \n",
       "3                            Tattoos (Deluxe Edition)           album   \n",
       "4                                Dos Necios de Verdad           album   \n",
       "5                                             10 A.M.           album   \n",
       "6                                               Hello           album   \n",
       "7                                    I Don't Know You           album   \n",
       "8                              Come and Get Your Love           album   \n",
       "9                                       Queremos Rock           album   \n",
       "10                           The Best Of Big Mountain           album   \n",
       "11                                      Ella Se Mueve           album   \n",
       "12                                           Trumpets           album   \n",
       "13                                              Fore!           album   \n",
       "14                                   30 años y un día           album   \n",
       "15                      El Objeto Antes Llamado Disco           album   \n",
       "16                       Me Verás Volver (Hits & Más)           album   \n",
       "17                                  Las Consecuencias           album   \n",
       "18                               Fabricando Fantasías           album   \n",
       "19                                               Vete           album   \n",
       "20                                     Que Hago Aquí?           album   \n",
       "21                                        Verano Azul           album   \n",
       "22                                       Sigh No More           album   \n",
       "23                                       Johannesburg           album   \n",
       "24                                          Avalancha           album   \n",
       "25                                        Lost on You           album   \n",
       "26                             En Vivo 25 Aniversario           album   \n",
       "27     Come What(ever) May [10th Anniversary Edition]           album   \n",
       "28                                            Bonfire           album   \n",
       "29                                                Zaz           album   \n",
       "30                                The Kids Are Coming           album   \n",
       "31                                       Dire Straits           album   \n",
       "32                                          Bad Blood           album   \n",
       "33                   Led Zeppelin IV (Deluxe Edition)           album   \n",
       "34                                Use Your Illusion I           album   \n",
       "35                               Overexposed (Deluxe)           album   \n",
       "36                                   Wanted on Voyage           album   \n",
       "37                                         Video Rola           album   \n",
       "38                                Un Panteon Muy Vivo           album   \n",
       "39                             Sounds Of The Universe           album   \n",
       "40  Electronic Music for Study (chill brain, study...           album   \n",
       "41                                Anthology 1970-1994           album   \n",
       "42        Songs of Faith and Devotion (2006 Remaster)           album   \n",
       "43                                       Good Company           album   \n",
       "\n",
       "    Duracion Cancion en MS  Explicita o No                      id  \\\n",
       "0                   236932           False  0RKglZdTQ7BLrs6vplb2qm   \n",
       "1                   227233            True  1cVlW9WQiGlFdWUXFdFZGh   \n",
       "2                   144018           False  3Fc7UXQiievrLVVxmqCYFa   \n",
       "3                   193295           False  4B4zDmbHdkXZ1wUJv1yKFy   \n",
       "4                   306413           False  53wqj8xuyBZIpk8Ubp9gFp   \n",
       "5                   210240           False  6m7iROft03ArIACgwVjL72   \n",
       "6                   295493           False  0ENSn4fwAbCGeFGVUbXEU3   \n",
       "7                   209449           False  4cJOLN346rtOty3UPACsao   \n",
       "8                   205933           False  7GVUmCP00eSsqc4tzj1sDD   \n",
       "9                   259398           False  2LSa3F2AZldoF2jSCxG5re   \n",
       "10                  249520           False  1Rvl8qsKJurfFTyWLBI9ib   \n",
       "11                  234910           False  7r9JHOYtIfnviFQD8i6L2l   \n",
       "12                  206400           False  6Ovnso88y3EQqSGpHANYtr   \n",
       "13                  245466           False  648BMGrt98kUbLo24A4vgj   \n",
       "14                  205826           False  2b4YmTAw00De49Pdbm3P6S   \n",
       "15                  254173           False  2GvI8j0DaIAGvubj5NinEF   \n",
       "16                  292266           False  5wCUdBsdubZ3ZFoJoRsMrY   \n",
       "17                  233960           False  73KNzyiG6xM6xguaLe4ICj   \n",
       "18                  272266           False  5bkWgrKyNhMcriQP3CrHEA   \n",
       "19                  206546           False  3IUoi4GkPLZY79QGoEHfF0   \n",
       "20                  221600           False  6FmwfLbteUqHfcz10Ab9yY   \n",
       "21                  190560           False  0dgwWXkfcWyB2a2qTgEc0F   \n",
       "22                  280653           False  1lO8VQK74G6Bvvf05BH4o5   \n",
       "23                  267946           False  3BqDKQg8onwppXlPw4SYnZ   \n",
       "24                  327426           False  4vkSJSyPddHwL7v3l1cuRf   \n",
       "25                  268105           False  2LIh4uzqq9cXMPzzmcToHl   \n",
       "26                  318520           False  53gDb3nG9sMytzVzD6UCMb   \n",
       "27                  282946           False  5NeIONQWJ25uPylJBJiO4c   \n",
       "28                  316733           False  3EQjW604d5Cfbn8FnZmqyF   \n",
       "29                  215933           False  734dz1YaFITwawPpM25fSt   \n",
       "30                  209438           False  5ZULALImTm80tzUbYQYM9d   \n",
       "31                  348400           False  37Tmv4NnfQeb0ZgUC4fOJj   \n",
       "32                  214147           False  6fNhZRFEkBfgW39W3wKARJ   \n",
       "33                  482830           False  5CQ30WqJwcep0pYcV4AMNc   \n",
       "34                  536066           False  3YRCqOhFifThpSRFJ1VWFM   \n",
       "35                  219466           False  4XNrMwGx1SqP01sqkGTDmo   \n",
       "36                  200720           False  7GJClzimvMSghjcrKxuf1M   \n",
       "37                  229800           False  4mQwxVqjcHdUEfwSWEOopx   \n",
       "38                  389723           False  5aLGdqM8EbHC3B1iKWKDIJ   \n",
       "39                  193680           False  3Y8pg3FF5FivDAboCKnGOP   \n",
       "40                  789000           False  5IozbYa5blWCyX4gP0cMOQ   \n",
       "41                  190893           False  5SJXf9SpztjrAyr7SsX8od   \n",
       "42                  276080           False  1Ob57NqUydp5cC3FCNV4Gy   \n",
       "43                  245320           False  4eMxLQtSdgxdA1Hs6D2YuN   \n",
       "\n",
       "                                       Nombre Cancion  Popularidad Cancion  \\\n",
       "0                                            Dibújame                   71   \n",
       "1                               Pa' Olvidarme De Ella                   84   \n",
       "2                                Havana (Sax Version)                   34   \n",
       "3                           Wiggle (feat. Snoop Dogg)                   68   \n",
       "4                                                Será                    0   \n",
       "5                                             10 A.M.                    0   \n",
       "6                                               Hello                   61   \n",
       "7                                    I Don't Know You                   67   \n",
       "8             Come and Get Your Love - Single Version                   77   \n",
       "9                                        Mil Demonios                   65   \n",
       "10                              Baby, I Love Your Way                   69   \n",
       "11                                      Ella Se Mueve                   32   \n",
       "12                               Trumpets - Radio Mix                    0   \n",
       "13                                   Hip To Be Square                   65   \n",
       "14                 Visite nuestro bar - Remaster 2015                   43   \n",
       "15                                        Aprovéchate                   61   \n",
       "16            Persiana Americana - Remasterizado 2007                   65   \n",
       "17                      Frente a frente (feat. Tulsa)                   65   \n",
       "18               Fabricando Fantasías - Salsa Version                   65   \n",
       "19                                               Vete                   43   \n",
       "20                                     Dr. Psiquiatra                   61   \n",
       "21                                        Verano Azul                   66   \n",
       "22                                    Dust Bowl Dance                   40   \n",
       "23                                 There Will Be Time                   58   \n",
       "24                   La chispa adecuada (Bendecida 3)                   64   \n",
       "25                                        Lost on You                   76   \n",
       "26                                              Cenit                   43   \n",
       "27                                      Through Glass                   73   \n",
       "28  It's a Long Way to the Top (If You Wanna Rock ...                   39   \n",
       "29                                            Je veux                   69   \n",
       "30                                       Dance Monkey                   81   \n",
       "31                                   Sultans Of Swing                   81   \n",
       "32                                            Pompeii                   73   \n",
       "33                      Stairway to Heaven - Remaster                   79   \n",
       "34                                      November Rain                   81   \n",
       "35                                     One More Night                   67   \n",
       "36                                           Budapest                   37   \n",
       "37                                       Amargo Adiós                   64   \n",
       "38                                  La Dosis Perfecta                   42   \n",
       "39                                              Wrong                    0   \n",
       "40                                         Algorithms                    0   \n",
       "41                                          Low Rider                    0   \n",
       "42                         I Feel You - 2006 Remaster                   46   \n",
       "43                    In Hell I'll Be in Good Company                   63   \n",
       "\n",
       "    Duracion Cancion en MIN             ID Playlist  Usuario  \n",
       "0                  3.948867  6yk3BrGrCQ4TMCutpuIHXS   Brenda  \n",
       "1                  3.787217  6yk3BrGrCQ4TMCutpuIHXS   Brenda  \n",
       "2                  2.400300  6yk3BrGrCQ4TMCutpuIHXS   Brenda  \n",
       "3                  3.221583  6yk3BrGrCQ4TMCutpuIHXS   Brenda  \n",
       "4                  5.106883  6yk3BrGrCQ4TMCutpuIHXS   Brenda  \n",
       "5                  3.504000  6yk3BrGrCQ4TMCutpuIHXS   Brenda  \n",
       "6                  4.924883  6yk3BrGrCQ4TMCutpuIHXS   Brenda  \n",
       "7                  3.490817  6yk3BrGrCQ4TMCutpuIHXS   Brenda  \n",
       "8                  3.432217  6yk3BrGrCQ4TMCutpuIHXS   Brenda  \n",
       "9                  4.323300  6yk3BrGrCQ4TMCutpuIHXS   Brenda  \n",
       "10                 4.158667  6yk3BrGrCQ4TMCutpuIHXS   Brenda  \n",
       "11                 3.915167  6yk3BrGrCQ4TMCutpuIHXS   Brenda  \n",
       "12                 3.440000  6yk3BrGrCQ4TMCutpuIHXS   Brenda  \n",
       "13                 4.091100  6yk3BrGrCQ4TMCutpuIHXS   Brenda  \n",
       "14                 3.430433  6yk3BrGrCQ4TMCutpuIHXS   Brenda  \n",
       "15                 4.236217  6yk3BrGrCQ4TMCutpuIHXS   Brenda  \n",
       "16                 4.871100  6yk3BrGrCQ4TMCutpuIHXS   Brenda  \n",
       "17                 3.899333  6yk3BrGrCQ4TMCutpuIHXS   Brenda  \n",
       "18                 4.537767  6yk3BrGrCQ4TMCutpuIHXS   Brenda  \n",
       "19                 3.442433  6yk3BrGrCQ4TMCutpuIHXS   Brenda  \n",
       "20                 3.693333  6yk3BrGrCQ4TMCutpuIHXS   Brenda  \n",
       "21                 3.176000  6yk3BrGrCQ4TMCutpuIHXS   Brenda  \n",
       "22                 4.677550  1ayJnO4tsfmdDgCrb9GeVX  Ricardo  \n",
       "23                 4.465767  1ayJnO4tsfmdDgCrb9GeVX  Ricardo  \n",
       "24                 5.457100  1ayJnO4tsfmdDgCrb9GeVX  Ricardo  \n",
       "25                 4.468417  1ayJnO4tsfmdDgCrb9GeVX  Ricardo  \n",
       "26                 5.308667  1ayJnO4tsfmdDgCrb9GeVX  Ricardo  \n",
       "27                 4.715767  1ayJnO4tsfmdDgCrb9GeVX  Ricardo  \n",
       "28                 5.278883  1ayJnO4tsfmdDgCrb9GeVX  Ricardo  \n",
       "29                 3.598883  1ayJnO4tsfmdDgCrb9GeVX  Ricardo  \n",
       "30                 3.490633  1ayJnO4tsfmdDgCrb9GeVX  Ricardo  \n",
       "31                 5.806667  1ayJnO4tsfmdDgCrb9GeVX  Ricardo  \n",
       "32                 3.569117  1ayJnO4tsfmdDgCrb9GeVX  Ricardo  \n",
       "33                 8.047167  1ayJnO4tsfmdDgCrb9GeVX  Ricardo  \n",
       "34                 8.934433  1ayJnO4tsfmdDgCrb9GeVX  Ricardo  \n",
       "35                 3.657767  1ayJnO4tsfmdDgCrb9GeVX  Ricardo  \n",
       "36                 3.345333  1ayJnO4tsfmdDgCrb9GeVX  Ricardo  \n",
       "37                 3.830000  1ayJnO4tsfmdDgCrb9GeVX  Ricardo  \n",
       "38                 6.495383  1ayJnO4tsfmdDgCrb9GeVX  Ricardo  \n",
       "39                 3.228000  1ayJnO4tsfmdDgCrb9GeVX  Ricardo  \n",
       "40                13.150000  1ayJnO4tsfmdDgCrb9GeVX  Ricardo  \n",
       "41                 3.181550  1ayJnO4tsfmdDgCrb9GeVX  Ricardo  \n",
       "42                 4.601333  1ayJnO4tsfmdDgCrb9GeVX  Ricardo  \n",
       "43                 4.088667  1ayJnO4tsfmdDgCrb9GeVX  Ricardo  "
      ]
     },
     "execution_count": 3,
     "metadata": {},
     "output_type": "execute_result"
    }
   ],
   "source": [
    "df_canciones_general"
   ]
  },
  {
   "cell_type": "code",
   "execution_count": 4,
   "metadata": {},
   "outputs": [
    {
     "data": {
      "text/html": [
       "<div>\n",
       "<style scoped>\n",
       "    .dataframe tbody tr th:only-of-type {\n",
       "        vertical-align: middle;\n",
       "    }\n",
       "\n",
       "    .dataframe tbody tr th {\n",
       "        vertical-align: top;\n",
       "    }\n",
       "\n",
       "    .dataframe thead th {\n",
       "        text-align: right;\n",
       "    }\n",
       "</style>\n",
       "<table border=\"1\" class=\"dataframe\">\n",
       "  <thead>\n",
       "    <tr style=\"text-align: right;\">\n",
       "      <th></th>\n",
       "      <th>Unnamed: 0</th>\n",
       "      <th>danceability</th>\n",
       "      <th>energy</th>\n",
       "      <th>key</th>\n",
       "      <th>loudness</th>\n",
       "      <th>mode</th>\n",
       "      <th>speechiness</th>\n",
       "      <th>acousticness</th>\n",
       "      <th>instrumentalness</th>\n",
       "      <th>liveness</th>\n",
       "      <th>valence</th>\n",
       "      <th>tempo</th>\n",
       "      <th>id</th>\n",
       "      <th>Usuario</th>\n",
       "    </tr>\n",
       "  </thead>\n",
       "  <tbody>\n",
       "    <tr>\n",
       "      <th>0</th>\n",
       "      <td>0</td>\n",
       "      <td>0.831</td>\n",
       "      <td>0.417</td>\n",
       "      <td>8</td>\n",
       "      <td>-7.139</td>\n",
       "      <td>0</td>\n",
       "      <td>0.3950</td>\n",
       "      <td>0.7940</td>\n",
       "      <td>0.000000</td>\n",
       "      <td>0.108</td>\n",
       "      <td>0.484</td>\n",
       "      <td>147.993</td>\n",
       "      <td>0RKglZdTQ7BLrs6vplb2qm</td>\n",
       "      <td>Brenda</td>\n",
       "    </tr>\n",
       "    <tr>\n",
       "      <th>1</th>\n",
       "      <td>1</td>\n",
       "      <td>0.728</td>\n",
       "      <td>0.542</td>\n",
       "      <td>0</td>\n",
       "      <td>-5.195</td>\n",
       "      <td>1</td>\n",
       "      <td>0.0514</td>\n",
       "      <td>0.2590</td>\n",
       "      <td>0.000000</td>\n",
       "      <td>0.136</td>\n",
       "      <td>0.637</td>\n",
       "      <td>90.016</td>\n",
       "      <td>1cVlW9WQiGlFdWUXFdFZGh</td>\n",
       "      <td>Brenda</td>\n",
       "    </tr>\n",
       "    <tr>\n",
       "      <th>2</th>\n",
       "      <td>2</td>\n",
       "      <td>0.829</td>\n",
       "      <td>0.633</td>\n",
       "      <td>2</td>\n",
       "      <td>-3.895</td>\n",
       "      <td>1</td>\n",
       "      <td>0.0345</td>\n",
       "      <td>0.4780</td>\n",
       "      <td>0.407000</td>\n",
       "      <td>0.231</td>\n",
       "      <td>0.842</td>\n",
       "      <td>107.067</td>\n",
       "      <td>3Fc7UXQiievrLVVxmqCYFa</td>\n",
       "      <td>Brenda</td>\n",
       "    </tr>\n",
       "    <tr>\n",
       "      <th>3</th>\n",
       "      <td>3</td>\n",
       "      <td>0.697</td>\n",
       "      <td>0.621</td>\n",
       "      <td>9</td>\n",
       "      <td>-6.886</td>\n",
       "      <td>0</td>\n",
       "      <td>0.2500</td>\n",
       "      <td>0.0802</td>\n",
       "      <td>0.000000</td>\n",
       "      <td>0.162</td>\n",
       "      <td>0.721</td>\n",
       "      <td>81.946</td>\n",
       "      <td>4B4zDmbHdkXZ1wUJv1yKFy</td>\n",
       "      <td>Brenda</td>\n",
       "    </tr>\n",
       "    <tr>\n",
       "      <th>4</th>\n",
       "      <td>4</td>\n",
       "      <td>0.610</td>\n",
       "      <td>0.391</td>\n",
       "      <td>9</td>\n",
       "      <td>-11.878</td>\n",
       "      <td>1</td>\n",
       "      <td>0.0374</td>\n",
       "      <td>0.3190</td>\n",
       "      <td>0.000026</td>\n",
       "      <td>0.743</td>\n",
       "      <td>0.259</td>\n",
       "      <td>134.957</td>\n",
       "      <td>53wqj8xuyBZIpk8Ubp9gFp</td>\n",
       "      <td>Brenda</td>\n",
       "    </tr>\n",
       "  </tbody>\n",
       "</table>\n",
       "</div>"
      ],
      "text/plain": [
       "   Unnamed: 0  danceability  energy  key  loudness  mode  speechiness  \\\n",
       "0           0         0.831   0.417    8    -7.139     0       0.3950   \n",
       "1           1         0.728   0.542    0    -5.195     1       0.0514   \n",
       "2           2         0.829   0.633    2    -3.895     1       0.0345   \n",
       "3           3         0.697   0.621    9    -6.886     0       0.2500   \n",
       "4           4         0.610   0.391    9   -11.878     1       0.0374   \n",
       "\n",
       "   acousticness  instrumentalness  liveness  valence    tempo  \\\n",
       "0        0.7940          0.000000     0.108    0.484  147.993   \n",
       "1        0.2590          0.000000     0.136    0.637   90.016   \n",
       "2        0.4780          0.407000     0.231    0.842  107.067   \n",
       "3        0.0802          0.000000     0.162    0.721   81.946   \n",
       "4        0.3190          0.000026     0.743    0.259  134.957   \n",
       "\n",
       "                       id Usuario  \n",
       "0  0RKglZdTQ7BLrs6vplb2qm  Brenda  \n",
       "1  1cVlW9WQiGlFdWUXFdFZGh  Brenda  \n",
       "2  3Fc7UXQiievrLVVxmqCYFa  Brenda  \n",
       "3  4B4zDmbHdkXZ1wUJv1yKFy  Brenda  \n",
       "4  53wqj8xuyBZIpk8Ubp9gFp  Brenda  "
      ]
     },
     "execution_count": 4,
     "metadata": {},
     "output_type": "execute_result"
    }
   ],
   "source": [
    "df_features_canciones_general.head()"
   ]
  },
  {
   "cell_type": "code",
   "execution_count": 5,
   "metadata": {},
   "outputs": [
    {
     "data": {
      "text/html": [
       "<div>\n",
       "<style scoped>\n",
       "    .dataframe tbody tr th:only-of-type {\n",
       "        vertical-align: middle;\n",
       "    }\n",
       "\n",
       "    .dataframe tbody tr th {\n",
       "        vertical-align: top;\n",
       "    }\n",
       "\n",
       "    .dataframe thead th {\n",
       "        text-align: right;\n",
       "    }\n",
       "</style>\n",
       "<table border=\"1\" class=\"dataframe\">\n",
       "  <thead>\n",
       "    <tr style=\"text-align: right;\">\n",
       "      <th></th>\n",
       "      <th>Unnamed: 0</th>\n",
       "      <th>Genero</th>\n",
       "      <th>ID Artista</th>\n",
       "      <th>Nombre Artista</th>\n",
       "      <th>Popularidad</th>\n",
       "      <th>Total de Seguidores</th>\n",
       "      <th>Usuario</th>\n",
       "    </tr>\n",
       "  </thead>\n",
       "  <tbody>\n",
       "    <tr>\n",
       "      <th>0</th>\n",
       "      <td>0</td>\n",
       "      <td>[]</td>\n",
       "      <td>4wAnP6TlcSkM1KVwkmSEfb</td>\n",
       "      <td>Ernesto Tapia</td>\n",
       "      <td>40</td>\n",
       "      <td>460</td>\n",
       "      <td>Brenda</td>\n",
       "    </tr>\n",
       "    <tr>\n",
       "      <th>1</th>\n",
       "      <td>1</td>\n",
       "      <td>['british soul', 'pop', 'pop soul', 'uk pop']</td>\n",
       "      <td>4dpARuHxo51G3z768sgnrY</td>\n",
       "      <td>Adele</td>\n",
       "      <td>83</td>\n",
       "      <td>24563367</td>\n",
       "      <td>Brenda</td>\n",
       "    </tr>\n",
       "    <tr>\n",
       "      <th>2</th>\n",
       "      <td>2</td>\n",
       "      <td>['colombian hip hop', 'mexican hip hop']</td>\n",
       "      <td>1cUpGtXcSQsovNYEZOQgOG</td>\n",
       "      <td>Nanpa Básico</td>\n",
       "      <td>72</td>\n",
       "      <td>864098</td>\n",
       "      <td>Brenda</td>\n",
       "    </tr>\n",
       "    <tr>\n",
       "      <th>3</th>\n",
       "      <td>3</td>\n",
       "      <td>['mariachi', 'nuevo regional mexicano', 'ranch...</td>\n",
       "      <td>0XwVARXT135rw8lyw1EeWP</td>\n",
       "      <td>Christian Nodal</td>\n",
       "      <td>86</td>\n",
       "      <td>5282121</td>\n",
       "      <td>Brenda</td>\n",
       "    </tr>\n",
       "    <tr>\n",
       "      <th>4</th>\n",
       "      <td>4</td>\n",
       "      <td>['g funk', 'gangster rap', 'hip hop', 'pop rap...</td>\n",
       "      <td>7hJcb9fa4alzcOq3EaNPoG</td>\n",
       "      <td>Snoop Dogg</td>\n",
       "      <td>85</td>\n",
       "      <td>6427914</td>\n",
       "      <td>Brenda</td>\n",
       "    </tr>\n",
       "    <tr>\n",
       "      <th>5</th>\n",
       "      <td>5</td>\n",
       "      <td>['mexican hip hop', 'perreo']</td>\n",
       "      <td>1FCItwxfRieMGhR0eRxotU</td>\n",
       "      <td>Rich Vagos</td>\n",
       "      <td>64</td>\n",
       "      <td>66437</td>\n",
       "      <td>Brenda</td>\n",
       "    </tr>\n",
       "    <tr>\n",
       "      <th>6</th>\n",
       "      <td>6</td>\n",
       "      <td>['mexican hip hop', 'r&amp;b en espanol']</td>\n",
       "      <td>0zfvfy9XlborSqXNRhi8Bk</td>\n",
       "      <td>Samantha Barrón</td>\n",
       "      <td>62</td>\n",
       "      <td>53018</td>\n",
       "      <td>Brenda</td>\n",
       "    </tr>\n",
       "    <tr>\n",
       "      <th>7</th>\n",
       "      <td>7</td>\n",
       "      <td>['cantautor', 'latin pop', 'trova', 'trova mex...</td>\n",
       "      <td>3C6Jn2YYPlZoe7pBPQl845</td>\n",
       "      <td>Raúl Ornelas</td>\n",
       "      <td>53</td>\n",
       "      <td>124299</td>\n",
       "      <td>Brenda</td>\n",
       "    </tr>\n",
       "    <tr>\n",
       "      <th>8</th>\n",
       "      <td>8</td>\n",
       "      <td>['colombian pop', 'latin', 'latin pop', 'regga...</td>\n",
       "      <td>4bw2Am3p9ji3mYsXNXtQcd</td>\n",
       "      <td>Piso 21</td>\n",
       "      <td>79</td>\n",
       "      <td>6356333</td>\n",
       "      <td>Brenda</td>\n",
       "    </tr>\n",
       "    <tr>\n",
       "      <th>9</th>\n",
       "      <td>9</td>\n",
       "      <td>['dance pop', 'pop', 'pop dance', 'pop rap', '...</td>\n",
       "      <td>07YZf4WDAMNwqr4jfgOZ8y</td>\n",
       "      <td>Jason Derulo</td>\n",
       "      <td>87</td>\n",
       "      <td>8566945</td>\n",
       "      <td>Brenda</td>\n",
       "    </tr>\n",
       "    <tr>\n",
       "      <th>10</th>\n",
       "      <td>10</td>\n",
       "      <td>['latin alternative', 'latin rock', 'mexican r...</td>\n",
       "      <td>6IdtcAwaNVAggwd6sCKgTI</td>\n",
       "      <td>Zoé</td>\n",
       "      <td>73</td>\n",
       "      <td>3208068</td>\n",
       "      <td>Brenda</td>\n",
       "    </tr>\n",
       "    <tr>\n",
       "      <th>11</th>\n",
       "      <td>11</td>\n",
       "      <td>['cantautor', 'latin arena pop', 'latin pop', ...</td>\n",
       "      <td>6genEcweKnEZ92TZvdeLFl</td>\n",
       "      <td>Edgar Oceransky</td>\n",
       "      <td>55</td>\n",
       "      <td>123509</td>\n",
       "      <td>Brenda</td>\n",
       "    </tr>\n",
       "    <tr>\n",
       "      <th>12</th>\n",
       "      <td>0</td>\n",
       "      <td>['la pop', \"women's music\"]</td>\n",
       "      <td>0J7U24vlOOIeMpuaO6Q85A</td>\n",
       "      <td>LP</td>\n",
       "      <td>71</td>\n",
       "      <td>1901266</td>\n",
       "      <td>Ricardo</td>\n",
       "    </tr>\n",
       "    <tr>\n",
       "      <th>13</th>\n",
       "      <td>1</td>\n",
       "      <td>['latin alternative', 'latin rock', 'musica ar...</td>\n",
       "      <td>3qAPxVwIQRBuz5ImPUxpZT</td>\n",
       "      <td>Heroes Del Silencio</td>\n",
       "      <td>68</td>\n",
       "      <td>1530135</td>\n",
       "      <td>Ricardo</td>\n",
       "    </tr>\n",
       "    <tr>\n",
       "      <th>14</th>\n",
       "      <td>2</td>\n",
       "      <td>['alternative metal', 'nu metal', 'post-grunge...</td>\n",
       "      <td>49qiE8dj4JuNdpYGRPdKbF</td>\n",
       "      <td>Stone Sour</td>\n",
       "      <td>69</td>\n",
       "      <td>2091821</td>\n",
       "      <td>Ricardo</td>\n",
       "    </tr>\n",
       "    <tr>\n",
       "      <th>15</th>\n",
       "      <td>3</td>\n",
       "      <td>['modern folk rock', 'modern rock', 'stomp and...</td>\n",
       "      <td>3gd8FJtBJtkRxdfbTu19U2</td>\n",
       "      <td>Mumford &amp; Sons</td>\n",
       "      <td>76</td>\n",
       "      <td>5895140</td>\n",
       "      <td>Ricardo</td>\n",
       "    </tr>\n",
       "    <tr>\n",
       "      <th>16</th>\n",
       "      <td>4</td>\n",
       "      <td>['latin alternative', 'latin rock', 'mexican r...</td>\n",
       "      <td>7fFzUTQmuK6dcxov1opn5Q</td>\n",
       "      <td>La Castañeda</td>\n",
       "      <td>49</td>\n",
       "      <td>286422</td>\n",
       "      <td>Ricardo</td>\n",
       "    </tr>\n",
       "    <tr>\n",
       "      <th>17</th>\n",
       "      <td>5</td>\n",
       "      <td>['afropop', 'desert blues', 'griot', 'mbalax',...</td>\n",
       "      <td>49z6oAiD2RpyUf5yLJs7Nf</td>\n",
       "      <td>Baaba Maal</td>\n",
       "      <td>52</td>\n",
       "      <td>49860</td>\n",
       "      <td>Ricardo</td>\n",
       "    </tr>\n",
       "    <tr>\n",
       "      <th>18</th>\n",
       "      <td>6</td>\n",
       "      <td>['album rock', 'australian rock', 'hard rock',...</td>\n",
       "      <td>711MCceyCBcFnzjGY4Q7Un</td>\n",
       "      <td>AC/DC</td>\n",
       "      <td>85</td>\n",
       "      <td>17129975</td>\n",
       "      <td>Ricardo</td>\n",
       "    </tr>\n",
       "  </tbody>\n",
       "</table>\n",
       "</div>"
      ],
      "text/plain": [
       "    Unnamed: 0                                             Genero  \\\n",
       "0            0                                                 []   \n",
       "1            1      ['british soul', 'pop', 'pop soul', 'uk pop']   \n",
       "2            2           ['colombian hip hop', 'mexican hip hop']   \n",
       "3            3  ['mariachi', 'nuevo regional mexicano', 'ranch...   \n",
       "4            4  ['g funk', 'gangster rap', 'hip hop', 'pop rap...   \n",
       "5            5                      ['mexican hip hop', 'perreo']   \n",
       "6            6              ['mexican hip hop', 'r&b en espanol']   \n",
       "7            7  ['cantautor', 'latin pop', 'trova', 'trova mex...   \n",
       "8            8  ['colombian pop', 'latin', 'latin pop', 'regga...   \n",
       "9            9  ['dance pop', 'pop', 'pop dance', 'pop rap', '...   \n",
       "10          10  ['latin alternative', 'latin rock', 'mexican r...   \n",
       "11          11  ['cantautor', 'latin arena pop', 'latin pop', ...   \n",
       "12           0                        ['la pop', \"women's music\"]   \n",
       "13           1  ['latin alternative', 'latin rock', 'musica ar...   \n",
       "14           2  ['alternative metal', 'nu metal', 'post-grunge...   \n",
       "15           3  ['modern folk rock', 'modern rock', 'stomp and...   \n",
       "16           4  ['latin alternative', 'latin rock', 'mexican r...   \n",
       "17           5  ['afropop', 'desert blues', 'griot', 'mbalax',...   \n",
       "18           6  ['album rock', 'australian rock', 'hard rock',...   \n",
       "\n",
       "                ID Artista       Nombre Artista  Popularidad  \\\n",
       "0   4wAnP6TlcSkM1KVwkmSEfb        Ernesto Tapia           40   \n",
       "1   4dpARuHxo51G3z768sgnrY                Adele           83   \n",
       "2   1cUpGtXcSQsovNYEZOQgOG         Nanpa Básico           72   \n",
       "3   0XwVARXT135rw8lyw1EeWP      Christian Nodal           86   \n",
       "4   7hJcb9fa4alzcOq3EaNPoG           Snoop Dogg           85   \n",
       "5   1FCItwxfRieMGhR0eRxotU           Rich Vagos           64   \n",
       "6   0zfvfy9XlborSqXNRhi8Bk      Samantha Barrón           62   \n",
       "7   3C6Jn2YYPlZoe7pBPQl845         Raúl Ornelas           53   \n",
       "8   4bw2Am3p9ji3mYsXNXtQcd              Piso 21           79   \n",
       "9   07YZf4WDAMNwqr4jfgOZ8y         Jason Derulo           87   \n",
       "10  6IdtcAwaNVAggwd6sCKgTI                  Zoé           73   \n",
       "11  6genEcweKnEZ92TZvdeLFl      Edgar Oceransky           55   \n",
       "12  0J7U24vlOOIeMpuaO6Q85A                   LP           71   \n",
       "13  3qAPxVwIQRBuz5ImPUxpZT  Heroes Del Silencio           68   \n",
       "14  49qiE8dj4JuNdpYGRPdKbF           Stone Sour           69   \n",
       "15  3gd8FJtBJtkRxdfbTu19U2       Mumford & Sons           76   \n",
       "16  7fFzUTQmuK6dcxov1opn5Q         La Castañeda           49   \n",
       "17  49z6oAiD2RpyUf5yLJs7Nf           Baaba Maal           52   \n",
       "18  711MCceyCBcFnzjGY4Q7Un                AC/DC           85   \n",
       "\n",
       "    Total de Seguidores  Usuario  \n",
       "0                   460   Brenda  \n",
       "1              24563367   Brenda  \n",
       "2                864098   Brenda  \n",
       "3               5282121   Brenda  \n",
       "4               6427914   Brenda  \n",
       "5                 66437   Brenda  \n",
       "6                 53018   Brenda  \n",
       "7                124299   Brenda  \n",
       "8               6356333   Brenda  \n",
       "9               8566945   Brenda  \n",
       "10              3208068   Brenda  \n",
       "11               123509   Brenda  \n",
       "12              1901266  Ricardo  \n",
       "13              1530135  Ricardo  \n",
       "14              2091821  Ricardo  \n",
       "15              5895140  Ricardo  \n",
       "16               286422  Ricardo  \n",
       "17                49860  Ricardo  \n",
       "18             17129975  Ricardo  "
      ]
     },
     "execution_count": 5,
     "metadata": {},
     "output_type": "execute_result"
    }
   ],
   "source": [
    "df_info_artistas_general"
   ]
  },
  {
   "cell_type": "code",
   "execution_count": 6,
   "metadata": {},
   "outputs": [
    {
     "data": {
      "text/plain": [
       "Index(['Unnamed: 0', 'danceability', 'energy', 'key', 'loudness', 'mode',\n",
       "       'speechiness', 'acousticness', 'instrumentalness', 'liveness',\n",
       "       'valence', 'tempo', 'id', 'Usuario'],\n",
       "      dtype='object')"
      ]
     },
     "execution_count": 6,
     "metadata": {},
     "output_type": "execute_result"
    }
   ],
   "source": [
    "## Buscar las graficas con plotly\n",
    "df_features_canciones_general.columns"
   ]
  },
  {
   "cell_type": "markdown",
   "metadata": {},
   "source": [
    "## Grafica de Telaraña"
   ]
  },
  {
   "cell_type": "code",
   "execution_count": 67,
   "metadata": {},
   "outputs": [],
   "source": [
    "# Grafica de Telaraña\n",
    "\"\"\"\n",
    "La grafica de telaraña nos mostrará primero la comparacion entre la popularidad de los artistas escuchados entre Bren y yo. \n",
    "\"\"\"\n",
    "# Primero seleccionamos los datos y filtramos la info que queremos.\n",
    "artistas_ricardo = df_info_artistas_general[df_info_artistas_general['Usuario']=='Ricardo'].groupby('Nombre Artista').sum()\n",
    "artistas_ricardo = artistas_ricardo.drop(columns=['Unnamed: 0'])\n",
    "\n",
    "artistas_brenda = df_info_artistas_general[df_info_artistas_general['Usuario']=='Brenda'].groupby('Nombre Artista').sum()\n",
    "artistas_brenda = artistas_brenda.drop(columns=['Unnamed: 0'])"
   ]
  },
  {
   "cell_type": "code",
   "execution_count": 68,
   "metadata": {},
   "outputs": [],
   "source": [
    "#Primero generamos una lista con los valores a representar\n",
    "ricardo = artistas_ricardo['Popularidad'].to_list()\n",
    "categories_r =artistas_ricardo.index.to_list()\n",
    "\n",
    "brenda = artistas_brenda['Popularidad'].to_list()\n",
    "categories_b =artistas_brenda.index.to_list()"
   ]
  },
  {
   "cell_type": "code",
   "execution_count": 70,
   "metadata": {},
   "outputs": [
    {
     "data": {
      "application/vnd.plotly.v1+json": {
       "config": {
        "plotlyServerURL": "https://plot.ly"
       },
       "data": [
        {
         "fill": "toself",
         "name": "Ricardo",
         "r": [
          85,
          52,
          68,
          71,
          49,
          76,
          69
         ],
         "theta": [
          "AC/DC",
          "Baaba Maal",
          "Heroes Del Silencio",
          "LP",
          "La Castañeda",
          "Mumford & Sons",
          "Stone Sour"
         ],
         "type": "scatterpolar"
        },
        {
         "fill": "toself",
         "name": "Brenda",
         "r": [
          83,
          86,
          55,
          40,
          87,
          72,
          79,
          53,
          64,
          62,
          85,
          73
         ],
         "theta": [
          "Adele",
          "Christian Nodal",
          "Edgar Oceransky",
          "Ernesto Tapia",
          "Jason Derulo",
          "Nanpa Básico",
          "Piso 21",
          "Raúl Ornelas",
          "Rich Vagos",
          "Samantha Barrón",
          "Snoop Dogg",
          "Zoé"
         ],
         "type": "scatterpolar"
        }
       ],
       "layout": {
        "polar": {
         "radialaxis": {
          "range": [
           40,
           87
          ],
          "visible": true
         }
        },
        "showlegend": true,
        "template": {
         "data": {
          "bar": [
           {
            "error_x": {
             "color": "#2a3f5f"
            },
            "error_y": {
             "color": "#2a3f5f"
            },
            "marker": {
             "line": {
              "color": "#E5ECF6",
              "width": 0.5
             }
            },
            "type": "bar"
           }
          ],
          "barpolar": [
           {
            "marker": {
             "line": {
              "color": "#E5ECF6",
              "width": 0.5
             }
            },
            "type": "barpolar"
           }
          ],
          "carpet": [
           {
            "aaxis": {
             "endlinecolor": "#2a3f5f",
             "gridcolor": "white",
             "linecolor": "white",
             "minorgridcolor": "white",
             "startlinecolor": "#2a3f5f"
            },
            "baxis": {
             "endlinecolor": "#2a3f5f",
             "gridcolor": "white",
             "linecolor": "white",
             "minorgridcolor": "white",
             "startlinecolor": "#2a3f5f"
            },
            "type": "carpet"
           }
          ],
          "choropleth": [
           {
            "colorbar": {
             "outlinewidth": 0,
             "ticks": ""
            },
            "type": "choropleth"
           }
          ],
          "contour": [
           {
            "colorbar": {
             "outlinewidth": 0,
             "ticks": ""
            },
            "colorscale": [
             [
              0,
              "#0d0887"
             ],
             [
              0.1111111111111111,
              "#46039f"
             ],
             [
              0.2222222222222222,
              "#7201a8"
             ],
             [
              0.3333333333333333,
              "#9c179e"
             ],
             [
              0.4444444444444444,
              "#bd3786"
             ],
             [
              0.5555555555555556,
              "#d8576b"
             ],
             [
              0.6666666666666666,
              "#ed7953"
             ],
             [
              0.7777777777777778,
              "#fb9f3a"
             ],
             [
              0.8888888888888888,
              "#fdca26"
             ],
             [
              1,
              "#f0f921"
             ]
            ],
            "type": "contour"
           }
          ],
          "contourcarpet": [
           {
            "colorbar": {
             "outlinewidth": 0,
             "ticks": ""
            },
            "type": "contourcarpet"
           }
          ],
          "heatmap": [
           {
            "colorbar": {
             "outlinewidth": 0,
             "ticks": ""
            },
            "colorscale": [
             [
              0,
              "#0d0887"
             ],
             [
              0.1111111111111111,
              "#46039f"
             ],
             [
              0.2222222222222222,
              "#7201a8"
             ],
             [
              0.3333333333333333,
              "#9c179e"
             ],
             [
              0.4444444444444444,
              "#bd3786"
             ],
             [
              0.5555555555555556,
              "#d8576b"
             ],
             [
              0.6666666666666666,
              "#ed7953"
             ],
             [
              0.7777777777777778,
              "#fb9f3a"
             ],
             [
              0.8888888888888888,
              "#fdca26"
             ],
             [
              1,
              "#f0f921"
             ]
            ],
            "type": "heatmap"
           }
          ],
          "heatmapgl": [
           {
            "colorbar": {
             "outlinewidth": 0,
             "ticks": ""
            },
            "colorscale": [
             [
              0,
              "#0d0887"
             ],
             [
              0.1111111111111111,
              "#46039f"
             ],
             [
              0.2222222222222222,
              "#7201a8"
             ],
             [
              0.3333333333333333,
              "#9c179e"
             ],
             [
              0.4444444444444444,
              "#bd3786"
             ],
             [
              0.5555555555555556,
              "#d8576b"
             ],
             [
              0.6666666666666666,
              "#ed7953"
             ],
             [
              0.7777777777777778,
              "#fb9f3a"
             ],
             [
              0.8888888888888888,
              "#fdca26"
             ],
             [
              1,
              "#f0f921"
             ]
            ],
            "type": "heatmapgl"
           }
          ],
          "histogram": [
           {
            "marker": {
             "colorbar": {
              "outlinewidth": 0,
              "ticks": ""
             }
            },
            "type": "histogram"
           }
          ],
          "histogram2d": [
           {
            "colorbar": {
             "outlinewidth": 0,
             "ticks": ""
            },
            "colorscale": [
             [
              0,
              "#0d0887"
             ],
             [
              0.1111111111111111,
              "#46039f"
             ],
             [
              0.2222222222222222,
              "#7201a8"
             ],
             [
              0.3333333333333333,
              "#9c179e"
             ],
             [
              0.4444444444444444,
              "#bd3786"
             ],
             [
              0.5555555555555556,
              "#d8576b"
             ],
             [
              0.6666666666666666,
              "#ed7953"
             ],
             [
              0.7777777777777778,
              "#fb9f3a"
             ],
             [
              0.8888888888888888,
              "#fdca26"
             ],
             [
              1,
              "#f0f921"
             ]
            ],
            "type": "histogram2d"
           }
          ],
          "histogram2dcontour": [
           {
            "colorbar": {
             "outlinewidth": 0,
             "ticks": ""
            },
            "colorscale": [
             [
              0,
              "#0d0887"
             ],
             [
              0.1111111111111111,
              "#46039f"
             ],
             [
              0.2222222222222222,
              "#7201a8"
             ],
             [
              0.3333333333333333,
              "#9c179e"
             ],
             [
              0.4444444444444444,
              "#bd3786"
             ],
             [
              0.5555555555555556,
              "#d8576b"
             ],
             [
              0.6666666666666666,
              "#ed7953"
             ],
             [
              0.7777777777777778,
              "#fb9f3a"
             ],
             [
              0.8888888888888888,
              "#fdca26"
             ],
             [
              1,
              "#f0f921"
             ]
            ],
            "type": "histogram2dcontour"
           }
          ],
          "mesh3d": [
           {
            "colorbar": {
             "outlinewidth": 0,
             "ticks": ""
            },
            "type": "mesh3d"
           }
          ],
          "parcoords": [
           {
            "line": {
             "colorbar": {
              "outlinewidth": 0,
              "ticks": ""
             }
            },
            "type": "parcoords"
           }
          ],
          "pie": [
           {
            "automargin": true,
            "type": "pie"
           }
          ],
          "scatter": [
           {
            "marker": {
             "colorbar": {
              "outlinewidth": 0,
              "ticks": ""
             }
            },
            "type": "scatter"
           }
          ],
          "scatter3d": [
           {
            "line": {
             "colorbar": {
              "outlinewidth": 0,
              "ticks": ""
             }
            },
            "marker": {
             "colorbar": {
              "outlinewidth": 0,
              "ticks": ""
             }
            },
            "type": "scatter3d"
           }
          ],
          "scattercarpet": [
           {
            "marker": {
             "colorbar": {
              "outlinewidth": 0,
              "ticks": ""
             }
            },
            "type": "scattercarpet"
           }
          ],
          "scattergeo": [
           {
            "marker": {
             "colorbar": {
              "outlinewidth": 0,
              "ticks": ""
             }
            },
            "type": "scattergeo"
           }
          ],
          "scattergl": [
           {
            "marker": {
             "colorbar": {
              "outlinewidth": 0,
              "ticks": ""
             }
            },
            "type": "scattergl"
           }
          ],
          "scattermapbox": [
           {
            "marker": {
             "colorbar": {
              "outlinewidth": 0,
              "ticks": ""
             }
            },
            "type": "scattermapbox"
           }
          ],
          "scatterpolar": [
           {
            "marker": {
             "colorbar": {
              "outlinewidth": 0,
              "ticks": ""
             }
            },
            "type": "scatterpolar"
           }
          ],
          "scatterpolargl": [
           {
            "marker": {
             "colorbar": {
              "outlinewidth": 0,
              "ticks": ""
             }
            },
            "type": "scatterpolargl"
           }
          ],
          "scatterternary": [
           {
            "marker": {
             "colorbar": {
              "outlinewidth": 0,
              "ticks": ""
             }
            },
            "type": "scatterternary"
           }
          ],
          "surface": [
           {
            "colorbar": {
             "outlinewidth": 0,
             "ticks": ""
            },
            "colorscale": [
             [
              0,
              "#0d0887"
             ],
             [
              0.1111111111111111,
              "#46039f"
             ],
             [
              0.2222222222222222,
              "#7201a8"
             ],
             [
              0.3333333333333333,
              "#9c179e"
             ],
             [
              0.4444444444444444,
              "#bd3786"
             ],
             [
              0.5555555555555556,
              "#d8576b"
             ],
             [
              0.6666666666666666,
              "#ed7953"
             ],
             [
              0.7777777777777778,
              "#fb9f3a"
             ],
             [
              0.8888888888888888,
              "#fdca26"
             ],
             [
              1,
              "#f0f921"
             ]
            ],
            "type": "surface"
           }
          ],
          "table": [
           {
            "cells": {
             "fill": {
              "color": "#EBF0F8"
             },
             "line": {
              "color": "white"
             }
            },
            "header": {
             "fill": {
              "color": "#C8D4E3"
             },
             "line": {
              "color": "white"
             }
            },
            "type": "table"
           }
          ]
         },
         "layout": {
          "annotationdefaults": {
           "arrowcolor": "#2a3f5f",
           "arrowhead": 0,
           "arrowwidth": 1
          },
          "coloraxis": {
           "colorbar": {
            "outlinewidth": 0,
            "ticks": ""
           }
          },
          "colorscale": {
           "diverging": [
            [
             0,
             "#8e0152"
            ],
            [
             0.1,
             "#c51b7d"
            ],
            [
             0.2,
             "#de77ae"
            ],
            [
             0.3,
             "#f1b6da"
            ],
            [
             0.4,
             "#fde0ef"
            ],
            [
             0.5,
             "#f7f7f7"
            ],
            [
             0.6,
             "#e6f5d0"
            ],
            [
             0.7,
             "#b8e186"
            ],
            [
             0.8,
             "#7fbc41"
            ],
            [
             0.9,
             "#4d9221"
            ],
            [
             1,
             "#276419"
            ]
           ],
           "sequential": [
            [
             0,
             "#0d0887"
            ],
            [
             0.1111111111111111,
             "#46039f"
            ],
            [
             0.2222222222222222,
             "#7201a8"
            ],
            [
             0.3333333333333333,
             "#9c179e"
            ],
            [
             0.4444444444444444,
             "#bd3786"
            ],
            [
             0.5555555555555556,
             "#d8576b"
            ],
            [
             0.6666666666666666,
             "#ed7953"
            ],
            [
             0.7777777777777778,
             "#fb9f3a"
            ],
            [
             0.8888888888888888,
             "#fdca26"
            ],
            [
             1,
             "#f0f921"
            ]
           ],
           "sequentialminus": [
            [
             0,
             "#0d0887"
            ],
            [
             0.1111111111111111,
             "#46039f"
            ],
            [
             0.2222222222222222,
             "#7201a8"
            ],
            [
             0.3333333333333333,
             "#9c179e"
            ],
            [
             0.4444444444444444,
             "#bd3786"
            ],
            [
             0.5555555555555556,
             "#d8576b"
            ],
            [
             0.6666666666666666,
             "#ed7953"
            ],
            [
             0.7777777777777778,
             "#fb9f3a"
            ],
            [
             0.8888888888888888,
             "#fdca26"
            ],
            [
             1,
             "#f0f921"
            ]
           ]
          },
          "colorway": [
           "#636efa",
           "#EF553B",
           "#00cc96",
           "#ab63fa",
           "#FFA15A",
           "#19d3f3",
           "#FF6692",
           "#B6E880",
           "#FF97FF",
           "#FECB52"
          ],
          "font": {
           "color": "#2a3f5f"
          },
          "geo": {
           "bgcolor": "white",
           "lakecolor": "white",
           "landcolor": "#E5ECF6",
           "showlakes": true,
           "showland": true,
           "subunitcolor": "white"
          },
          "hoverlabel": {
           "align": "left"
          },
          "hovermode": "closest",
          "mapbox": {
           "style": "light"
          },
          "paper_bgcolor": "white",
          "plot_bgcolor": "#E5ECF6",
          "polar": {
           "angularaxis": {
            "gridcolor": "white",
            "linecolor": "white",
            "ticks": ""
           },
           "bgcolor": "#E5ECF6",
           "radialaxis": {
            "gridcolor": "white",
            "linecolor": "white",
            "ticks": ""
           }
          },
          "scene": {
           "xaxis": {
            "backgroundcolor": "#E5ECF6",
            "gridcolor": "white",
            "gridwidth": 2,
            "linecolor": "white",
            "showbackground": true,
            "ticks": "",
            "zerolinecolor": "white"
           },
           "yaxis": {
            "backgroundcolor": "#E5ECF6",
            "gridcolor": "white",
            "gridwidth": 2,
            "linecolor": "white",
            "showbackground": true,
            "ticks": "",
            "zerolinecolor": "white"
           },
           "zaxis": {
            "backgroundcolor": "#E5ECF6",
            "gridcolor": "white",
            "gridwidth": 2,
            "linecolor": "white",
            "showbackground": true,
            "ticks": "",
            "zerolinecolor": "white"
           }
          },
          "shapedefaults": {
           "line": {
            "color": "#2a3f5f"
           }
          },
          "ternary": {
           "aaxis": {
            "gridcolor": "white",
            "linecolor": "white",
            "ticks": ""
           },
           "baxis": {
            "gridcolor": "white",
            "linecolor": "white",
            "ticks": ""
           },
           "bgcolor": "#E5ECF6",
           "caxis": {
            "gridcolor": "white",
            "linecolor": "white",
            "ticks": ""
           }
          },
          "title": {
           "x": 0.05
          },
          "xaxis": {
           "automargin": true,
           "gridcolor": "white",
           "linecolor": "white",
           "ticks": "",
           "title": {
            "standoff": 15
           },
           "zerolinecolor": "white",
           "zerolinewidth": 2
          },
          "yaxis": {
           "automargin": true,
           "gridcolor": "white",
           "linecolor": "white",
           "ticks": "",
           "title": {
            "standoff": 15
           },
           "zerolinecolor": "white",
           "zerolinewidth": 2
          }
         }
        }
       }
      },
      "text/html": [
       "<div>\n",
       "        \n",
       "        \n",
       "            <div id=\"ff87a1c4-9ce8-42d6-95b6-0bc84a118e90\" class=\"plotly-graph-div\" style=\"height:525px; width:100%;\"></div>\n",
       "            <script type=\"text/javascript\">\n",
       "                require([\"plotly\"], function(Plotly) {\n",
       "                    window.PLOTLYENV=window.PLOTLYENV || {};\n",
       "                    \n",
       "                if (document.getElementById(\"ff87a1c4-9ce8-42d6-95b6-0bc84a118e90\")) {\n",
       "                    Plotly.newPlot(\n",
       "                        'ff87a1c4-9ce8-42d6-95b6-0bc84a118e90',\n",
       "                        [{\"fill\": \"toself\", \"name\": \"Ricardo\", \"r\": [85, 52, 68, 71, 49, 76, 69], \"theta\": [\"AC/DC\", \"Baaba Maal\", \"Heroes Del Silencio\", \"LP\", \"La Casta\\u00f1eda\", \"Mumford & Sons\", \"Stone Sour\"], \"type\": \"scatterpolar\"}, {\"fill\": \"toself\", \"name\": \"Brenda\", \"r\": [83, 86, 55, 40, 87, 72, 79, 53, 64, 62, 85, 73], \"theta\": [\"Adele\", \"Christian Nodal\", \"Edgar Oceransky\", \"Ernesto Tapia\", \"Jason Derulo\", \"Nanpa B\\u00e1sico\", \"Piso 21\", \"Ra\\u00fal Ornelas\", \"Rich Vagos\", \"Samantha Barr\\u00f3n\", \"Snoop Dogg\", \"Zo\\u00e9\"], \"type\": \"scatterpolar\"}],\n",
       "                        {\"polar\": {\"radialaxis\": {\"range\": [40, 87], \"visible\": true}}, \"showlegend\": true, \"template\": {\"data\": {\"bar\": [{\"error_x\": {\"color\": \"#2a3f5f\"}, \"error_y\": {\"color\": \"#2a3f5f\"}, \"marker\": {\"line\": {\"color\": \"#E5ECF6\", \"width\": 0.5}}, \"type\": \"bar\"}], \"barpolar\": [{\"marker\": {\"line\": {\"color\": \"#E5ECF6\", \"width\": 0.5}}, \"type\": \"barpolar\"}], \"carpet\": [{\"aaxis\": {\"endlinecolor\": \"#2a3f5f\", \"gridcolor\": \"white\", \"linecolor\": \"white\", \"minorgridcolor\": \"white\", \"startlinecolor\": \"#2a3f5f\"}, \"baxis\": {\"endlinecolor\": \"#2a3f5f\", \"gridcolor\": \"white\", \"linecolor\": \"white\", \"minorgridcolor\": \"white\", \"startlinecolor\": \"#2a3f5f\"}, \"type\": \"carpet\"}], \"choropleth\": [{\"colorbar\": {\"outlinewidth\": 0, \"ticks\": \"\"}, \"type\": \"choropleth\"}], \"contour\": [{\"colorbar\": {\"outlinewidth\": 0, \"ticks\": \"\"}, \"colorscale\": [[0.0, \"#0d0887\"], [0.1111111111111111, \"#46039f\"], [0.2222222222222222, \"#7201a8\"], [0.3333333333333333, \"#9c179e\"], [0.4444444444444444, \"#bd3786\"], [0.5555555555555556, \"#d8576b\"], [0.6666666666666666, \"#ed7953\"], [0.7777777777777778, \"#fb9f3a\"], [0.8888888888888888, \"#fdca26\"], [1.0, \"#f0f921\"]], \"type\": \"contour\"}], \"contourcarpet\": [{\"colorbar\": {\"outlinewidth\": 0, \"ticks\": \"\"}, \"type\": \"contourcarpet\"}], \"heatmap\": [{\"colorbar\": {\"outlinewidth\": 0, \"ticks\": \"\"}, \"colorscale\": [[0.0, \"#0d0887\"], [0.1111111111111111, \"#46039f\"], [0.2222222222222222, \"#7201a8\"], [0.3333333333333333, \"#9c179e\"], [0.4444444444444444, \"#bd3786\"], [0.5555555555555556, \"#d8576b\"], [0.6666666666666666, \"#ed7953\"], [0.7777777777777778, \"#fb9f3a\"], [0.8888888888888888, \"#fdca26\"], [1.0, \"#f0f921\"]], \"type\": \"heatmap\"}], \"heatmapgl\": [{\"colorbar\": {\"outlinewidth\": 0, \"ticks\": \"\"}, \"colorscale\": [[0.0, \"#0d0887\"], [0.1111111111111111, \"#46039f\"], [0.2222222222222222, \"#7201a8\"], [0.3333333333333333, \"#9c179e\"], [0.4444444444444444, \"#bd3786\"], [0.5555555555555556, \"#d8576b\"], [0.6666666666666666, \"#ed7953\"], [0.7777777777777778, \"#fb9f3a\"], [0.8888888888888888, \"#fdca26\"], [1.0, \"#f0f921\"]], \"type\": \"heatmapgl\"}], \"histogram\": [{\"marker\": {\"colorbar\": {\"outlinewidth\": 0, \"ticks\": \"\"}}, \"type\": \"histogram\"}], \"histogram2d\": [{\"colorbar\": {\"outlinewidth\": 0, \"ticks\": \"\"}, \"colorscale\": [[0.0, \"#0d0887\"], [0.1111111111111111, \"#46039f\"], [0.2222222222222222, \"#7201a8\"], [0.3333333333333333, \"#9c179e\"], [0.4444444444444444, \"#bd3786\"], [0.5555555555555556, \"#d8576b\"], [0.6666666666666666, \"#ed7953\"], [0.7777777777777778, \"#fb9f3a\"], [0.8888888888888888, \"#fdca26\"], [1.0, \"#f0f921\"]], \"type\": \"histogram2d\"}], \"histogram2dcontour\": [{\"colorbar\": {\"outlinewidth\": 0, \"ticks\": \"\"}, \"colorscale\": [[0.0, \"#0d0887\"], [0.1111111111111111, \"#46039f\"], [0.2222222222222222, \"#7201a8\"], [0.3333333333333333, \"#9c179e\"], [0.4444444444444444, \"#bd3786\"], [0.5555555555555556, \"#d8576b\"], [0.6666666666666666, \"#ed7953\"], [0.7777777777777778, \"#fb9f3a\"], [0.8888888888888888, \"#fdca26\"], [1.0, \"#f0f921\"]], \"type\": \"histogram2dcontour\"}], \"mesh3d\": [{\"colorbar\": {\"outlinewidth\": 0, \"ticks\": \"\"}, \"type\": \"mesh3d\"}], \"parcoords\": [{\"line\": {\"colorbar\": {\"outlinewidth\": 0, \"ticks\": \"\"}}, \"type\": \"parcoords\"}], \"pie\": [{\"automargin\": true, \"type\": \"pie\"}], \"scatter\": [{\"marker\": {\"colorbar\": {\"outlinewidth\": 0, \"ticks\": \"\"}}, \"type\": \"scatter\"}], \"scatter3d\": [{\"line\": {\"colorbar\": {\"outlinewidth\": 0, \"ticks\": \"\"}}, \"marker\": {\"colorbar\": {\"outlinewidth\": 0, \"ticks\": \"\"}}, \"type\": \"scatter3d\"}], \"scattercarpet\": [{\"marker\": {\"colorbar\": {\"outlinewidth\": 0, \"ticks\": \"\"}}, \"type\": \"scattercarpet\"}], \"scattergeo\": [{\"marker\": {\"colorbar\": {\"outlinewidth\": 0, \"ticks\": \"\"}}, \"type\": \"scattergeo\"}], \"scattergl\": [{\"marker\": {\"colorbar\": {\"outlinewidth\": 0, \"ticks\": \"\"}}, \"type\": \"scattergl\"}], \"scattermapbox\": [{\"marker\": {\"colorbar\": {\"outlinewidth\": 0, \"ticks\": \"\"}}, \"type\": \"scattermapbox\"}], \"scatterpolar\": [{\"marker\": {\"colorbar\": {\"outlinewidth\": 0, \"ticks\": \"\"}}, \"type\": \"scatterpolar\"}], \"scatterpolargl\": [{\"marker\": {\"colorbar\": {\"outlinewidth\": 0, \"ticks\": \"\"}}, \"type\": \"scatterpolargl\"}], \"scatterternary\": [{\"marker\": {\"colorbar\": {\"outlinewidth\": 0, \"ticks\": \"\"}}, \"type\": \"scatterternary\"}], \"surface\": [{\"colorbar\": {\"outlinewidth\": 0, \"ticks\": \"\"}, \"colorscale\": [[0.0, \"#0d0887\"], [0.1111111111111111, \"#46039f\"], [0.2222222222222222, \"#7201a8\"], [0.3333333333333333, \"#9c179e\"], [0.4444444444444444, \"#bd3786\"], [0.5555555555555556, \"#d8576b\"], [0.6666666666666666, \"#ed7953\"], [0.7777777777777778, \"#fb9f3a\"], [0.8888888888888888, \"#fdca26\"], [1.0, \"#f0f921\"]], \"type\": \"surface\"}], \"table\": [{\"cells\": {\"fill\": {\"color\": \"#EBF0F8\"}, \"line\": {\"color\": \"white\"}}, \"header\": {\"fill\": {\"color\": \"#C8D4E3\"}, \"line\": {\"color\": \"white\"}}, \"type\": \"table\"}]}, \"layout\": {\"annotationdefaults\": {\"arrowcolor\": \"#2a3f5f\", \"arrowhead\": 0, \"arrowwidth\": 1}, \"coloraxis\": {\"colorbar\": {\"outlinewidth\": 0, \"ticks\": \"\"}}, \"colorscale\": {\"diverging\": [[0, \"#8e0152\"], [0.1, \"#c51b7d\"], [0.2, \"#de77ae\"], [0.3, \"#f1b6da\"], [0.4, \"#fde0ef\"], [0.5, \"#f7f7f7\"], [0.6, \"#e6f5d0\"], [0.7, \"#b8e186\"], [0.8, \"#7fbc41\"], [0.9, \"#4d9221\"], [1, \"#276419\"]], \"sequential\": [[0.0, \"#0d0887\"], [0.1111111111111111, \"#46039f\"], [0.2222222222222222, \"#7201a8\"], [0.3333333333333333, \"#9c179e\"], [0.4444444444444444, \"#bd3786\"], [0.5555555555555556, \"#d8576b\"], [0.6666666666666666, \"#ed7953\"], [0.7777777777777778, \"#fb9f3a\"], [0.8888888888888888, \"#fdca26\"], [1.0, \"#f0f921\"]], \"sequentialminus\": [[0.0, \"#0d0887\"], [0.1111111111111111, \"#46039f\"], [0.2222222222222222, \"#7201a8\"], [0.3333333333333333, \"#9c179e\"], [0.4444444444444444, \"#bd3786\"], [0.5555555555555556, \"#d8576b\"], [0.6666666666666666, \"#ed7953\"], [0.7777777777777778, \"#fb9f3a\"], [0.8888888888888888, \"#fdca26\"], [1.0, \"#f0f921\"]]}, \"colorway\": [\"#636efa\", \"#EF553B\", \"#00cc96\", \"#ab63fa\", \"#FFA15A\", \"#19d3f3\", \"#FF6692\", \"#B6E880\", \"#FF97FF\", \"#FECB52\"], \"font\": {\"color\": \"#2a3f5f\"}, \"geo\": {\"bgcolor\": \"white\", \"lakecolor\": \"white\", \"landcolor\": \"#E5ECF6\", \"showlakes\": true, \"showland\": true, \"subunitcolor\": \"white\"}, \"hoverlabel\": {\"align\": \"left\"}, \"hovermode\": \"closest\", \"mapbox\": {\"style\": \"light\"}, \"paper_bgcolor\": \"white\", \"plot_bgcolor\": \"#E5ECF6\", \"polar\": {\"angularaxis\": {\"gridcolor\": \"white\", \"linecolor\": \"white\", \"ticks\": \"\"}, \"bgcolor\": \"#E5ECF6\", \"radialaxis\": {\"gridcolor\": \"white\", \"linecolor\": \"white\", \"ticks\": \"\"}}, \"scene\": {\"xaxis\": {\"backgroundcolor\": \"#E5ECF6\", \"gridcolor\": \"white\", \"gridwidth\": 2, \"linecolor\": \"white\", \"showbackground\": true, \"ticks\": \"\", \"zerolinecolor\": \"white\"}, \"yaxis\": {\"backgroundcolor\": \"#E5ECF6\", \"gridcolor\": \"white\", \"gridwidth\": 2, \"linecolor\": \"white\", \"showbackground\": true, \"ticks\": \"\", \"zerolinecolor\": \"white\"}, \"zaxis\": {\"backgroundcolor\": \"#E5ECF6\", \"gridcolor\": \"white\", \"gridwidth\": 2, \"linecolor\": \"white\", \"showbackground\": true, \"ticks\": \"\", \"zerolinecolor\": \"white\"}}, \"shapedefaults\": {\"line\": {\"color\": \"#2a3f5f\"}}, \"ternary\": {\"aaxis\": {\"gridcolor\": \"white\", \"linecolor\": \"white\", \"ticks\": \"\"}, \"baxis\": {\"gridcolor\": \"white\", \"linecolor\": \"white\", \"ticks\": \"\"}, \"bgcolor\": \"#E5ECF6\", \"caxis\": {\"gridcolor\": \"white\", \"linecolor\": \"white\", \"ticks\": \"\"}}, \"title\": {\"x\": 0.05}, \"xaxis\": {\"automargin\": true, \"gridcolor\": \"white\", \"linecolor\": \"white\", \"ticks\": \"\", \"title\": {\"standoff\": 15}, \"zerolinecolor\": \"white\", \"zerolinewidth\": 2}, \"yaxis\": {\"automargin\": true, \"gridcolor\": \"white\", \"linecolor\": \"white\", \"ticks\": \"\", \"title\": {\"standoff\": 15}, \"zerolinecolor\": \"white\", \"zerolinewidth\": 2}}}},\n",
       "                        {\"responsive\": true}\n",
       "                    ).then(function(){\n",
       "                            \n",
       "var gd = document.getElementById('ff87a1c4-9ce8-42d6-95b6-0bc84a118e90');\n",
       "var x = new MutationObserver(function (mutations, observer) {{\n",
       "        var display = window.getComputedStyle(gd).display;\n",
       "        if (!display || display === 'none') {{\n",
       "            console.log([gd, 'removed!']);\n",
       "            Plotly.purge(gd);\n",
       "            observer.disconnect();\n",
       "        }}\n",
       "}});\n",
       "\n",
       "// Listen for the removal of the full notebook cells\n",
       "var notebookContainer = gd.closest('#notebook-container');\n",
       "if (notebookContainer) {{\n",
       "    x.observe(notebookContainer, {childList: true});\n",
       "}}\n",
       "\n",
       "// Listen for the clearing of the current output cell\n",
       "var outputEl = gd.closest('.output');\n",
       "if (outputEl) {{\n",
       "    x.observe(outputEl, {childList: true});\n",
       "}}\n",
       "\n",
       "                        })\n",
       "                };\n",
       "                });\n",
       "            </script>\n",
       "        </div>"
      ]
     },
     "metadata": {},
     "output_type": "display_data"
    }
   ],
   "source": [
    "# Pasamos a generar la grafica\n",
    "fig = go.Figure()\n",
    "\n",
    "fig.add_trace(go.Scatterpolar(\n",
    "      r=ricardo,\n",
    "      theta=categories_r,\n",
    "      fill='toself',\n",
    "      name='Ricardo',      \n",
    "))\n",
    "\n",
    "fig.add_trace(go.Scatterpolar(\n",
    "      r=brenda,\n",
    "      theta=categories_b,\n",
    "      fill='toself',\n",
    "      name='Brenda'\n",
    "))\n",
    "\n",
    "fig.update_layout(\n",
    "  polar=dict(\n",
    "    radialaxis=dict(\n",
    "      visible=True,\n",
    "      range=[min(brenda),max(brenda)]\n",
    "    )),\n",
    "  showlegend=True\n",
    ")\n",
    "\n",
    "fig.show()"
   ]
  },
  {
   "cell_type": "code",
   "execution_count": 80,
   "metadata": {},
   "outputs": [
    {
     "data": {
      "application/vnd.plotly.v1+json": {
       "config": {
        "plotlyServerURL": "https://plot.ly"
       },
       "data": [
        {
         "customdata": [
          [
           460
          ],
          [
           24563367
          ],
          [
           864098
          ],
          [
           5282121
          ],
          [
           6427914
          ],
          [
           66437
          ],
          [
           53018
          ],
          [
           124299
          ],
          [
           6356333
          ],
          [
           8566945
          ],
          [
           3208068
          ],
          [
           123509
          ]
         ],
         "hovertemplate": "Usuario=Brenda<br>Nombre Artista=%{x}<br>Popularidad=%{y}<br>Total de Seguidores=%{customdata[0]}<extra></extra>",
         "legendgroup": "Brenda",
         "marker": {
          "color": "#636efa",
          "size": [
           460,
           24563367,
           864098,
           5282121,
           6427914,
           66437,
           53018,
           124299,
           6356333,
           8566945,
           3208068,
           123509
          ],
          "sizemode": "area",
          "sizeref": 61408.4175,
          "symbol": "circle"
         },
         "mode": "markers",
         "name": "Brenda",
         "orientation": "v",
         "showlegend": true,
         "type": "scatter",
         "x": [
          "Ernesto Tapia",
          "Adele",
          "Nanpa Básico",
          "Christian Nodal",
          "Snoop Dogg",
          "Rich Vagos",
          "Samantha Barrón",
          "Raúl Ornelas",
          "Piso 21",
          "Jason Derulo",
          "Zoé",
          "Edgar Oceransky"
         ],
         "xaxis": "x",
         "y": [
          40,
          83,
          72,
          86,
          85,
          64,
          62,
          53,
          79,
          87,
          73,
          55
         ],
         "yaxis": "y"
        },
        {
         "customdata": [
          [
           1901266
          ],
          [
           1530135
          ],
          [
           2091821
          ],
          [
           5895140
          ],
          [
           286422
          ],
          [
           49860
          ],
          [
           17129975
          ]
         ],
         "hovertemplate": "Usuario=Ricardo<br>Nombre Artista=%{x}<br>Popularidad=%{y}<br>Total de Seguidores=%{customdata[0]}<extra></extra>",
         "legendgroup": "Ricardo",
         "marker": {
          "color": "#EF553B",
          "size": [
           1901266,
           1530135,
           2091821,
           5895140,
           286422,
           49860,
           17129975
          ],
          "sizemode": "area",
          "sizeref": 61408.4175,
          "symbol": "circle"
         },
         "mode": "markers",
         "name": "Ricardo",
         "orientation": "v",
         "showlegend": true,
         "type": "scatter",
         "x": [
          "LP",
          "Heroes Del Silencio",
          "Stone Sour",
          "Mumford & Sons",
          "La Castañeda",
          "Baaba Maal",
          "AC/DC"
         ],
         "xaxis": "x",
         "y": [
          71,
          68,
          69,
          76,
          49,
          52,
          85
         ],
         "yaxis": "y"
        }
       ],
       "layout": {
        "legend": {
         "itemsizing": "constant",
         "title": {
          "text": "Usuario"
         },
         "tracegroupgap": 0
        },
        "margin": {
         "t": 60
        },
        "template": {
         "data": {
          "bar": [
           {
            "error_x": {
             "color": "#2a3f5f"
            },
            "error_y": {
             "color": "#2a3f5f"
            },
            "marker": {
             "line": {
              "color": "#E5ECF6",
              "width": 0.5
             }
            },
            "type": "bar"
           }
          ],
          "barpolar": [
           {
            "marker": {
             "line": {
              "color": "#E5ECF6",
              "width": 0.5
             }
            },
            "type": "barpolar"
           }
          ],
          "carpet": [
           {
            "aaxis": {
             "endlinecolor": "#2a3f5f",
             "gridcolor": "white",
             "linecolor": "white",
             "minorgridcolor": "white",
             "startlinecolor": "#2a3f5f"
            },
            "baxis": {
             "endlinecolor": "#2a3f5f",
             "gridcolor": "white",
             "linecolor": "white",
             "minorgridcolor": "white",
             "startlinecolor": "#2a3f5f"
            },
            "type": "carpet"
           }
          ],
          "choropleth": [
           {
            "colorbar": {
             "outlinewidth": 0,
             "ticks": ""
            },
            "type": "choropleth"
           }
          ],
          "contour": [
           {
            "colorbar": {
             "outlinewidth": 0,
             "ticks": ""
            },
            "colorscale": [
             [
              0,
              "#0d0887"
             ],
             [
              0.1111111111111111,
              "#46039f"
             ],
             [
              0.2222222222222222,
              "#7201a8"
             ],
             [
              0.3333333333333333,
              "#9c179e"
             ],
             [
              0.4444444444444444,
              "#bd3786"
             ],
             [
              0.5555555555555556,
              "#d8576b"
             ],
             [
              0.6666666666666666,
              "#ed7953"
             ],
             [
              0.7777777777777778,
              "#fb9f3a"
             ],
             [
              0.8888888888888888,
              "#fdca26"
             ],
             [
              1,
              "#f0f921"
             ]
            ],
            "type": "contour"
           }
          ],
          "contourcarpet": [
           {
            "colorbar": {
             "outlinewidth": 0,
             "ticks": ""
            },
            "type": "contourcarpet"
           }
          ],
          "heatmap": [
           {
            "colorbar": {
             "outlinewidth": 0,
             "ticks": ""
            },
            "colorscale": [
             [
              0,
              "#0d0887"
             ],
             [
              0.1111111111111111,
              "#46039f"
             ],
             [
              0.2222222222222222,
              "#7201a8"
             ],
             [
              0.3333333333333333,
              "#9c179e"
             ],
             [
              0.4444444444444444,
              "#bd3786"
             ],
             [
              0.5555555555555556,
              "#d8576b"
             ],
             [
              0.6666666666666666,
              "#ed7953"
             ],
             [
              0.7777777777777778,
              "#fb9f3a"
             ],
             [
              0.8888888888888888,
              "#fdca26"
             ],
             [
              1,
              "#f0f921"
             ]
            ],
            "type": "heatmap"
           }
          ],
          "heatmapgl": [
           {
            "colorbar": {
             "outlinewidth": 0,
             "ticks": ""
            },
            "colorscale": [
             [
              0,
              "#0d0887"
             ],
             [
              0.1111111111111111,
              "#46039f"
             ],
             [
              0.2222222222222222,
              "#7201a8"
             ],
             [
              0.3333333333333333,
              "#9c179e"
             ],
             [
              0.4444444444444444,
              "#bd3786"
             ],
             [
              0.5555555555555556,
              "#d8576b"
             ],
             [
              0.6666666666666666,
              "#ed7953"
             ],
             [
              0.7777777777777778,
              "#fb9f3a"
             ],
             [
              0.8888888888888888,
              "#fdca26"
             ],
             [
              1,
              "#f0f921"
             ]
            ],
            "type": "heatmapgl"
           }
          ],
          "histogram": [
           {
            "marker": {
             "colorbar": {
              "outlinewidth": 0,
              "ticks": ""
             }
            },
            "type": "histogram"
           }
          ],
          "histogram2d": [
           {
            "colorbar": {
             "outlinewidth": 0,
             "ticks": ""
            },
            "colorscale": [
             [
              0,
              "#0d0887"
             ],
             [
              0.1111111111111111,
              "#46039f"
             ],
             [
              0.2222222222222222,
              "#7201a8"
             ],
             [
              0.3333333333333333,
              "#9c179e"
             ],
             [
              0.4444444444444444,
              "#bd3786"
             ],
             [
              0.5555555555555556,
              "#d8576b"
             ],
             [
              0.6666666666666666,
              "#ed7953"
             ],
             [
              0.7777777777777778,
              "#fb9f3a"
             ],
             [
              0.8888888888888888,
              "#fdca26"
             ],
             [
              1,
              "#f0f921"
             ]
            ],
            "type": "histogram2d"
           }
          ],
          "histogram2dcontour": [
           {
            "colorbar": {
             "outlinewidth": 0,
             "ticks": ""
            },
            "colorscale": [
             [
              0,
              "#0d0887"
             ],
             [
              0.1111111111111111,
              "#46039f"
             ],
             [
              0.2222222222222222,
              "#7201a8"
             ],
             [
              0.3333333333333333,
              "#9c179e"
             ],
             [
              0.4444444444444444,
              "#bd3786"
             ],
             [
              0.5555555555555556,
              "#d8576b"
             ],
             [
              0.6666666666666666,
              "#ed7953"
             ],
             [
              0.7777777777777778,
              "#fb9f3a"
             ],
             [
              0.8888888888888888,
              "#fdca26"
             ],
             [
              1,
              "#f0f921"
             ]
            ],
            "type": "histogram2dcontour"
           }
          ],
          "mesh3d": [
           {
            "colorbar": {
             "outlinewidth": 0,
             "ticks": ""
            },
            "type": "mesh3d"
           }
          ],
          "parcoords": [
           {
            "line": {
             "colorbar": {
              "outlinewidth": 0,
              "ticks": ""
             }
            },
            "type": "parcoords"
           }
          ],
          "pie": [
           {
            "automargin": true,
            "type": "pie"
           }
          ],
          "scatter": [
           {
            "marker": {
             "colorbar": {
              "outlinewidth": 0,
              "ticks": ""
             }
            },
            "type": "scatter"
           }
          ],
          "scatter3d": [
           {
            "line": {
             "colorbar": {
              "outlinewidth": 0,
              "ticks": ""
             }
            },
            "marker": {
             "colorbar": {
              "outlinewidth": 0,
              "ticks": ""
             }
            },
            "type": "scatter3d"
           }
          ],
          "scattercarpet": [
           {
            "marker": {
             "colorbar": {
              "outlinewidth": 0,
              "ticks": ""
             }
            },
            "type": "scattercarpet"
           }
          ],
          "scattergeo": [
           {
            "marker": {
             "colorbar": {
              "outlinewidth": 0,
              "ticks": ""
             }
            },
            "type": "scattergeo"
           }
          ],
          "scattergl": [
           {
            "marker": {
             "colorbar": {
              "outlinewidth": 0,
              "ticks": ""
             }
            },
            "type": "scattergl"
           }
          ],
          "scattermapbox": [
           {
            "marker": {
             "colorbar": {
              "outlinewidth": 0,
              "ticks": ""
             }
            },
            "type": "scattermapbox"
           }
          ],
          "scatterpolar": [
           {
            "marker": {
             "colorbar": {
              "outlinewidth": 0,
              "ticks": ""
             }
            },
            "type": "scatterpolar"
           }
          ],
          "scatterpolargl": [
           {
            "marker": {
             "colorbar": {
              "outlinewidth": 0,
              "ticks": ""
             }
            },
            "type": "scatterpolargl"
           }
          ],
          "scatterternary": [
           {
            "marker": {
             "colorbar": {
              "outlinewidth": 0,
              "ticks": ""
             }
            },
            "type": "scatterternary"
           }
          ],
          "surface": [
           {
            "colorbar": {
             "outlinewidth": 0,
             "ticks": ""
            },
            "colorscale": [
             [
              0,
              "#0d0887"
             ],
             [
              0.1111111111111111,
              "#46039f"
             ],
             [
              0.2222222222222222,
              "#7201a8"
             ],
             [
              0.3333333333333333,
              "#9c179e"
             ],
             [
              0.4444444444444444,
              "#bd3786"
             ],
             [
              0.5555555555555556,
              "#d8576b"
             ],
             [
              0.6666666666666666,
              "#ed7953"
             ],
             [
              0.7777777777777778,
              "#fb9f3a"
             ],
             [
              0.8888888888888888,
              "#fdca26"
             ],
             [
              1,
              "#f0f921"
             ]
            ],
            "type": "surface"
           }
          ],
          "table": [
           {
            "cells": {
             "fill": {
              "color": "#EBF0F8"
             },
             "line": {
              "color": "white"
             }
            },
            "header": {
             "fill": {
              "color": "#C8D4E3"
             },
             "line": {
              "color": "white"
             }
            },
            "type": "table"
           }
          ]
         },
         "layout": {
          "annotationdefaults": {
           "arrowcolor": "#2a3f5f",
           "arrowhead": 0,
           "arrowwidth": 1
          },
          "coloraxis": {
           "colorbar": {
            "outlinewidth": 0,
            "ticks": ""
           }
          },
          "colorscale": {
           "diverging": [
            [
             0,
             "#8e0152"
            ],
            [
             0.1,
             "#c51b7d"
            ],
            [
             0.2,
             "#de77ae"
            ],
            [
             0.3,
             "#f1b6da"
            ],
            [
             0.4,
             "#fde0ef"
            ],
            [
             0.5,
             "#f7f7f7"
            ],
            [
             0.6,
             "#e6f5d0"
            ],
            [
             0.7,
             "#b8e186"
            ],
            [
             0.8,
             "#7fbc41"
            ],
            [
             0.9,
             "#4d9221"
            ],
            [
             1,
             "#276419"
            ]
           ],
           "sequential": [
            [
             0,
             "#0d0887"
            ],
            [
             0.1111111111111111,
             "#46039f"
            ],
            [
             0.2222222222222222,
             "#7201a8"
            ],
            [
             0.3333333333333333,
             "#9c179e"
            ],
            [
             0.4444444444444444,
             "#bd3786"
            ],
            [
             0.5555555555555556,
             "#d8576b"
            ],
            [
             0.6666666666666666,
             "#ed7953"
            ],
            [
             0.7777777777777778,
             "#fb9f3a"
            ],
            [
             0.8888888888888888,
             "#fdca26"
            ],
            [
             1,
             "#f0f921"
            ]
           ],
           "sequentialminus": [
            [
             0,
             "#0d0887"
            ],
            [
             0.1111111111111111,
             "#46039f"
            ],
            [
             0.2222222222222222,
             "#7201a8"
            ],
            [
             0.3333333333333333,
             "#9c179e"
            ],
            [
             0.4444444444444444,
             "#bd3786"
            ],
            [
             0.5555555555555556,
             "#d8576b"
            ],
            [
             0.6666666666666666,
             "#ed7953"
            ],
            [
             0.7777777777777778,
             "#fb9f3a"
            ],
            [
             0.8888888888888888,
             "#fdca26"
            ],
            [
             1,
             "#f0f921"
            ]
           ]
          },
          "colorway": [
           "#636efa",
           "#EF553B",
           "#00cc96",
           "#ab63fa",
           "#FFA15A",
           "#19d3f3",
           "#FF6692",
           "#B6E880",
           "#FF97FF",
           "#FECB52"
          ],
          "font": {
           "color": "#2a3f5f"
          },
          "geo": {
           "bgcolor": "white",
           "lakecolor": "white",
           "landcolor": "#E5ECF6",
           "showlakes": true,
           "showland": true,
           "subunitcolor": "white"
          },
          "hoverlabel": {
           "align": "left"
          },
          "hovermode": "closest",
          "mapbox": {
           "style": "light"
          },
          "paper_bgcolor": "white",
          "plot_bgcolor": "#E5ECF6",
          "polar": {
           "angularaxis": {
            "gridcolor": "white",
            "linecolor": "white",
            "ticks": ""
           },
           "bgcolor": "#E5ECF6",
           "radialaxis": {
            "gridcolor": "white",
            "linecolor": "white",
            "ticks": ""
           }
          },
          "scene": {
           "xaxis": {
            "backgroundcolor": "#E5ECF6",
            "gridcolor": "white",
            "gridwidth": 2,
            "linecolor": "white",
            "showbackground": true,
            "ticks": "",
            "zerolinecolor": "white"
           },
           "yaxis": {
            "backgroundcolor": "#E5ECF6",
            "gridcolor": "white",
            "gridwidth": 2,
            "linecolor": "white",
            "showbackground": true,
            "ticks": "",
            "zerolinecolor": "white"
           },
           "zaxis": {
            "backgroundcolor": "#E5ECF6",
            "gridcolor": "white",
            "gridwidth": 2,
            "linecolor": "white",
            "showbackground": true,
            "ticks": "",
            "zerolinecolor": "white"
           }
          },
          "shapedefaults": {
           "line": {
            "color": "#2a3f5f"
           }
          },
          "ternary": {
           "aaxis": {
            "gridcolor": "white",
            "linecolor": "white",
            "ticks": ""
           },
           "baxis": {
            "gridcolor": "white",
            "linecolor": "white",
            "ticks": ""
           },
           "bgcolor": "#E5ECF6",
           "caxis": {
            "gridcolor": "white",
            "linecolor": "white",
            "ticks": ""
           }
          },
          "title": {
           "x": 0.05
          },
          "xaxis": {
           "automargin": true,
           "gridcolor": "white",
           "linecolor": "white",
           "ticks": "",
           "title": {
            "standoff": 15
           },
           "zerolinecolor": "white",
           "zerolinewidth": 2
          },
          "yaxis": {
           "automargin": true,
           "gridcolor": "white",
           "linecolor": "white",
           "ticks": "",
           "title": {
            "standoff": 15
           },
           "zerolinecolor": "white",
           "zerolinewidth": 2
          }
         }
        },
        "xaxis": {
         "anchor": "y",
         "domain": [
          0,
          1
         ],
         "title": {
          "text": "Nombre Artista"
         }
        },
        "yaxis": {
         "anchor": "x",
         "domain": [
          0,
          1
         ],
         "title": {
          "text": "Popularidad"
         }
        }
       }
      },
      "text/html": [
       "<div>\n",
       "        \n",
       "        \n",
       "            <div id=\"e8a40b4b-334c-4bae-86e6-cc7b9714a62f\" class=\"plotly-graph-div\" style=\"height:525px; width:100%;\"></div>\n",
       "            <script type=\"text/javascript\">\n",
       "                require([\"plotly\"], function(Plotly) {\n",
       "                    window.PLOTLYENV=window.PLOTLYENV || {};\n",
       "                    \n",
       "                if (document.getElementById(\"e8a40b4b-334c-4bae-86e6-cc7b9714a62f\")) {\n",
       "                    Plotly.newPlot(\n",
       "                        'e8a40b4b-334c-4bae-86e6-cc7b9714a62f',\n",
       "                        [{\"customdata\": [[460], [24563367], [864098], [5282121], [6427914], [66437], [53018], [124299], [6356333], [8566945], [3208068], [123509]], \"hovertemplate\": \"Usuario=Brenda<br>Nombre Artista=%{x}<br>Popularidad=%{y}<br>Total de Seguidores=%{customdata[0]}<extra></extra>\", \"legendgroup\": \"Brenda\", \"marker\": {\"color\": \"#636efa\", \"size\": [460, 24563367, 864098, 5282121, 6427914, 66437, 53018, 124299, 6356333, 8566945, 3208068, 123509], \"sizemode\": \"area\", \"sizeref\": 61408.4175, \"symbol\": \"circle\"}, \"mode\": \"markers\", \"name\": \"Brenda\", \"orientation\": \"v\", \"showlegend\": true, \"type\": \"scatter\", \"x\": [\"Ernesto Tapia\", \"Adele\", \"Nanpa B\\u00e1sico\", \"Christian Nodal\", \"Snoop Dogg\", \"Rich Vagos\", \"Samantha Barr\\u00f3n\", \"Ra\\u00fal Ornelas\", \"Piso 21\", \"Jason Derulo\", \"Zo\\u00e9\", \"Edgar Oceransky\"], \"xaxis\": \"x\", \"y\": [40, 83, 72, 86, 85, 64, 62, 53, 79, 87, 73, 55], \"yaxis\": \"y\"}, {\"customdata\": [[1901266], [1530135], [2091821], [5895140], [286422], [49860], [17129975]], \"hovertemplate\": \"Usuario=Ricardo<br>Nombre Artista=%{x}<br>Popularidad=%{y}<br>Total de Seguidores=%{customdata[0]}<extra></extra>\", \"legendgroup\": \"Ricardo\", \"marker\": {\"color\": \"#EF553B\", \"size\": [1901266, 1530135, 2091821, 5895140, 286422, 49860, 17129975], \"sizemode\": \"area\", \"sizeref\": 61408.4175, \"symbol\": \"circle\"}, \"mode\": \"markers\", \"name\": \"Ricardo\", \"orientation\": \"v\", \"showlegend\": true, \"type\": \"scatter\", \"x\": [\"LP\", \"Heroes Del Silencio\", \"Stone Sour\", \"Mumford & Sons\", \"La Casta\\u00f1eda\", \"Baaba Maal\", \"AC/DC\"], \"xaxis\": \"x\", \"y\": [71, 68, 69, 76, 49, 52, 85], \"yaxis\": \"y\"}],\n",
       "                        {\"legend\": {\"itemsizing\": \"constant\", \"title\": {\"text\": \"Usuario\"}, \"tracegroupgap\": 0}, \"margin\": {\"t\": 60}, \"template\": {\"data\": {\"bar\": [{\"error_x\": {\"color\": \"#2a3f5f\"}, \"error_y\": {\"color\": \"#2a3f5f\"}, \"marker\": {\"line\": {\"color\": \"#E5ECF6\", \"width\": 0.5}}, \"type\": \"bar\"}], \"barpolar\": [{\"marker\": {\"line\": {\"color\": \"#E5ECF6\", \"width\": 0.5}}, \"type\": \"barpolar\"}], \"carpet\": [{\"aaxis\": {\"endlinecolor\": \"#2a3f5f\", \"gridcolor\": \"white\", \"linecolor\": \"white\", \"minorgridcolor\": \"white\", \"startlinecolor\": \"#2a3f5f\"}, \"baxis\": {\"endlinecolor\": \"#2a3f5f\", \"gridcolor\": \"white\", \"linecolor\": \"white\", \"minorgridcolor\": \"white\", \"startlinecolor\": \"#2a3f5f\"}, \"type\": \"carpet\"}], \"choropleth\": [{\"colorbar\": {\"outlinewidth\": 0, \"ticks\": \"\"}, \"type\": \"choropleth\"}], \"contour\": [{\"colorbar\": {\"outlinewidth\": 0, \"ticks\": \"\"}, \"colorscale\": [[0.0, \"#0d0887\"], [0.1111111111111111, \"#46039f\"], [0.2222222222222222, \"#7201a8\"], [0.3333333333333333, \"#9c179e\"], [0.4444444444444444, \"#bd3786\"], [0.5555555555555556, \"#d8576b\"], [0.6666666666666666, \"#ed7953\"], [0.7777777777777778, \"#fb9f3a\"], [0.8888888888888888, \"#fdca26\"], [1.0, \"#f0f921\"]], \"type\": \"contour\"}], \"contourcarpet\": [{\"colorbar\": {\"outlinewidth\": 0, \"ticks\": \"\"}, \"type\": \"contourcarpet\"}], \"heatmap\": [{\"colorbar\": {\"outlinewidth\": 0, \"ticks\": \"\"}, \"colorscale\": [[0.0, \"#0d0887\"], [0.1111111111111111, \"#46039f\"], [0.2222222222222222, \"#7201a8\"], [0.3333333333333333, \"#9c179e\"], [0.4444444444444444, \"#bd3786\"], [0.5555555555555556, \"#d8576b\"], [0.6666666666666666, \"#ed7953\"], [0.7777777777777778, \"#fb9f3a\"], [0.8888888888888888, \"#fdca26\"], [1.0, \"#f0f921\"]], \"type\": \"heatmap\"}], \"heatmapgl\": [{\"colorbar\": {\"outlinewidth\": 0, \"ticks\": \"\"}, \"colorscale\": [[0.0, \"#0d0887\"], [0.1111111111111111, \"#46039f\"], [0.2222222222222222, \"#7201a8\"], [0.3333333333333333, \"#9c179e\"], [0.4444444444444444, \"#bd3786\"], [0.5555555555555556, \"#d8576b\"], [0.6666666666666666, \"#ed7953\"], [0.7777777777777778, \"#fb9f3a\"], [0.8888888888888888, \"#fdca26\"], [1.0, \"#f0f921\"]], \"type\": \"heatmapgl\"}], \"histogram\": [{\"marker\": {\"colorbar\": {\"outlinewidth\": 0, \"ticks\": \"\"}}, \"type\": \"histogram\"}], \"histogram2d\": [{\"colorbar\": {\"outlinewidth\": 0, \"ticks\": \"\"}, \"colorscale\": [[0.0, \"#0d0887\"], [0.1111111111111111, \"#46039f\"], [0.2222222222222222, \"#7201a8\"], [0.3333333333333333, \"#9c179e\"], [0.4444444444444444, \"#bd3786\"], [0.5555555555555556, \"#d8576b\"], [0.6666666666666666, \"#ed7953\"], [0.7777777777777778, \"#fb9f3a\"], [0.8888888888888888, \"#fdca26\"], [1.0, \"#f0f921\"]], \"type\": \"histogram2d\"}], \"histogram2dcontour\": [{\"colorbar\": {\"outlinewidth\": 0, \"ticks\": \"\"}, \"colorscale\": [[0.0, \"#0d0887\"], [0.1111111111111111, \"#46039f\"], [0.2222222222222222, \"#7201a8\"], [0.3333333333333333, \"#9c179e\"], [0.4444444444444444, \"#bd3786\"], [0.5555555555555556, \"#d8576b\"], [0.6666666666666666, \"#ed7953\"], [0.7777777777777778, \"#fb9f3a\"], [0.8888888888888888, \"#fdca26\"], [1.0, \"#f0f921\"]], \"type\": \"histogram2dcontour\"}], \"mesh3d\": [{\"colorbar\": {\"outlinewidth\": 0, \"ticks\": \"\"}, \"type\": \"mesh3d\"}], \"parcoords\": [{\"line\": {\"colorbar\": {\"outlinewidth\": 0, \"ticks\": \"\"}}, \"type\": \"parcoords\"}], \"pie\": [{\"automargin\": true, \"type\": \"pie\"}], \"scatter\": [{\"marker\": {\"colorbar\": {\"outlinewidth\": 0, \"ticks\": \"\"}}, \"type\": \"scatter\"}], \"scatter3d\": [{\"line\": {\"colorbar\": {\"outlinewidth\": 0, \"ticks\": \"\"}}, \"marker\": {\"colorbar\": {\"outlinewidth\": 0, \"ticks\": \"\"}}, \"type\": \"scatter3d\"}], \"scattercarpet\": [{\"marker\": {\"colorbar\": {\"outlinewidth\": 0, \"ticks\": \"\"}}, \"type\": \"scattercarpet\"}], \"scattergeo\": [{\"marker\": {\"colorbar\": {\"outlinewidth\": 0, \"ticks\": \"\"}}, \"type\": \"scattergeo\"}], \"scattergl\": [{\"marker\": {\"colorbar\": {\"outlinewidth\": 0, \"ticks\": \"\"}}, \"type\": \"scattergl\"}], \"scattermapbox\": [{\"marker\": {\"colorbar\": {\"outlinewidth\": 0, \"ticks\": \"\"}}, \"type\": \"scattermapbox\"}], \"scatterpolar\": [{\"marker\": {\"colorbar\": {\"outlinewidth\": 0, \"ticks\": \"\"}}, \"type\": \"scatterpolar\"}], \"scatterpolargl\": [{\"marker\": {\"colorbar\": {\"outlinewidth\": 0, \"ticks\": \"\"}}, \"type\": \"scatterpolargl\"}], \"scatterternary\": [{\"marker\": {\"colorbar\": {\"outlinewidth\": 0, \"ticks\": \"\"}}, \"type\": \"scatterternary\"}], \"surface\": [{\"colorbar\": {\"outlinewidth\": 0, \"ticks\": \"\"}, \"colorscale\": [[0.0, \"#0d0887\"], [0.1111111111111111, \"#46039f\"], [0.2222222222222222, \"#7201a8\"], [0.3333333333333333, \"#9c179e\"], [0.4444444444444444, \"#bd3786\"], [0.5555555555555556, \"#d8576b\"], [0.6666666666666666, \"#ed7953\"], [0.7777777777777778, \"#fb9f3a\"], [0.8888888888888888, \"#fdca26\"], [1.0, \"#f0f921\"]], \"type\": \"surface\"}], \"table\": [{\"cells\": {\"fill\": {\"color\": \"#EBF0F8\"}, \"line\": {\"color\": \"white\"}}, \"header\": {\"fill\": {\"color\": \"#C8D4E3\"}, \"line\": {\"color\": \"white\"}}, \"type\": \"table\"}]}, \"layout\": {\"annotationdefaults\": {\"arrowcolor\": \"#2a3f5f\", \"arrowhead\": 0, \"arrowwidth\": 1}, \"coloraxis\": {\"colorbar\": {\"outlinewidth\": 0, \"ticks\": \"\"}}, \"colorscale\": {\"diverging\": [[0, \"#8e0152\"], [0.1, \"#c51b7d\"], [0.2, \"#de77ae\"], [0.3, \"#f1b6da\"], [0.4, \"#fde0ef\"], [0.5, \"#f7f7f7\"], [0.6, \"#e6f5d0\"], [0.7, \"#b8e186\"], [0.8, \"#7fbc41\"], [0.9, \"#4d9221\"], [1, \"#276419\"]], \"sequential\": [[0.0, \"#0d0887\"], [0.1111111111111111, \"#46039f\"], [0.2222222222222222, \"#7201a8\"], [0.3333333333333333, \"#9c179e\"], [0.4444444444444444, \"#bd3786\"], [0.5555555555555556, \"#d8576b\"], [0.6666666666666666, \"#ed7953\"], [0.7777777777777778, \"#fb9f3a\"], [0.8888888888888888, \"#fdca26\"], [1.0, \"#f0f921\"]], \"sequentialminus\": [[0.0, \"#0d0887\"], [0.1111111111111111, \"#46039f\"], [0.2222222222222222, \"#7201a8\"], [0.3333333333333333, \"#9c179e\"], [0.4444444444444444, \"#bd3786\"], [0.5555555555555556, \"#d8576b\"], [0.6666666666666666, \"#ed7953\"], [0.7777777777777778, \"#fb9f3a\"], [0.8888888888888888, \"#fdca26\"], [1.0, \"#f0f921\"]]}, \"colorway\": [\"#636efa\", \"#EF553B\", \"#00cc96\", \"#ab63fa\", \"#FFA15A\", \"#19d3f3\", \"#FF6692\", \"#B6E880\", \"#FF97FF\", \"#FECB52\"], \"font\": {\"color\": \"#2a3f5f\"}, \"geo\": {\"bgcolor\": \"white\", \"lakecolor\": \"white\", \"landcolor\": \"#E5ECF6\", \"showlakes\": true, \"showland\": true, \"subunitcolor\": \"white\"}, \"hoverlabel\": {\"align\": \"left\"}, \"hovermode\": \"closest\", \"mapbox\": {\"style\": \"light\"}, \"paper_bgcolor\": \"white\", \"plot_bgcolor\": \"#E5ECF6\", \"polar\": {\"angularaxis\": {\"gridcolor\": \"white\", \"linecolor\": \"white\", \"ticks\": \"\"}, \"bgcolor\": \"#E5ECF6\", \"radialaxis\": {\"gridcolor\": \"white\", \"linecolor\": \"white\", \"ticks\": \"\"}}, \"scene\": {\"xaxis\": {\"backgroundcolor\": \"#E5ECF6\", \"gridcolor\": \"white\", \"gridwidth\": 2, \"linecolor\": \"white\", \"showbackground\": true, \"ticks\": \"\", \"zerolinecolor\": \"white\"}, \"yaxis\": {\"backgroundcolor\": \"#E5ECF6\", \"gridcolor\": \"white\", \"gridwidth\": 2, \"linecolor\": \"white\", \"showbackground\": true, \"ticks\": \"\", \"zerolinecolor\": \"white\"}, \"zaxis\": {\"backgroundcolor\": \"#E5ECF6\", \"gridcolor\": \"white\", \"gridwidth\": 2, \"linecolor\": \"white\", \"showbackground\": true, \"ticks\": \"\", \"zerolinecolor\": \"white\"}}, \"shapedefaults\": {\"line\": {\"color\": \"#2a3f5f\"}}, \"ternary\": {\"aaxis\": {\"gridcolor\": \"white\", \"linecolor\": \"white\", \"ticks\": \"\"}, \"baxis\": {\"gridcolor\": \"white\", \"linecolor\": \"white\", \"ticks\": \"\"}, \"bgcolor\": \"#E5ECF6\", \"caxis\": {\"gridcolor\": \"white\", \"linecolor\": \"white\", \"ticks\": \"\"}}, \"title\": {\"x\": 0.05}, \"xaxis\": {\"automargin\": true, \"gridcolor\": \"white\", \"linecolor\": \"white\", \"ticks\": \"\", \"title\": {\"standoff\": 15}, \"zerolinecolor\": \"white\", \"zerolinewidth\": 2}, \"yaxis\": {\"automargin\": true, \"gridcolor\": \"white\", \"linecolor\": \"white\", \"ticks\": \"\", \"title\": {\"standoff\": 15}, \"zerolinecolor\": \"white\", \"zerolinewidth\": 2}}}, \"xaxis\": {\"anchor\": \"y\", \"domain\": [0.0, 1.0], \"title\": {\"text\": \"Nombre Artista\"}}, \"yaxis\": {\"anchor\": \"x\", \"domain\": [0.0, 1.0], \"title\": {\"text\": \"Popularidad\"}}},\n",
       "                        {\"responsive\": true}\n",
       "                    ).then(function(){\n",
       "                            \n",
       "var gd = document.getElementById('e8a40b4b-334c-4bae-86e6-cc7b9714a62f');\n",
       "var x = new MutationObserver(function (mutations, observer) {{\n",
       "        var display = window.getComputedStyle(gd).display;\n",
       "        if (!display || display === 'none') {{\n",
       "            console.log([gd, 'removed!']);\n",
       "            Plotly.purge(gd);\n",
       "            observer.disconnect();\n",
       "        }}\n",
       "}});\n",
       "\n",
       "// Listen for the removal of the full notebook cells\n",
       "var notebookContainer = gd.closest('#notebook-container');\n",
       "if (notebookContainer) {{\n",
       "    x.observe(notebookContainer, {childList: true});\n",
       "}}\n",
       "\n",
       "// Listen for the clearing of the current output cell\n",
       "var outputEl = gd.closest('.output');\n",
       "if (outputEl) {{\n",
       "    x.observe(outputEl, {childList: true});\n",
       "}}\n",
       "\n",
       "                        })\n",
       "                };\n",
       "                });\n",
       "            </script>\n",
       "        </div>"
      ]
     },
     "metadata": {},
     "output_type": "display_data"
    }
   ],
   "source": [
    "# Aqui graficaremos el numero de seguidores por artista.\n",
    "fig = px.scatter()\n",
    "fig = px.scatter(df_info_artistas_general, x=\"Nombre Artista\", y=\"Popularidad\", color=\"Usuario\",\n",
    "                 size='Total de Seguidores',hover_data=['Total de Seguidores'])\n",
    "fig.show()"
   ]
  },
  {
   "cell_type": "code",
   "execution_count": null,
   "metadata": {},
   "outputs": [],
   "source": []
  }
 ],
 "metadata": {
  "kernelspec": {
   "display_name": "Python 3",
   "language": "python",
   "name": "python3"
  },
  "language_info": {
   "codemirror_mode": {
    "name": "ipython",
    "version": 3
   },
   "file_extension": ".py",
   "mimetype": "text/x-python",
   "name": "python",
   "nbconvert_exporter": "python",
   "pygments_lexer": "ipython3",
   "version": "3.8.5"
  }
 },
 "nbformat": 4,
 "nbformat_minor": 4
}
